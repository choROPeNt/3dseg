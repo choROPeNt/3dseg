{
    "cells": [
        {
            "cell_type": "code",
            "execution_count": 1,
            "source": [
                "import os\r\n",
                "import h5py\r\n",
                "from PIL import Image\r\n",
                "import numpy as np"
            ],
            "outputs": [],
            "metadata": {}
        },
        {
            "cell_type": "code",
            "execution_count": 13,
            "source": [
                "dirraw = os.path.join(\"data\",\"Neapel\",\"original_data\",\"imgs_16bit\")\r\n",
                "dirlbl = os.path.join(\"data\",\"Neapel\",\"original_data\",\"PixelLabelData\")\r\n",
                "raw = []\r\n",
                "lbl = []\r\n",
                "\r\n",
                "for root, dirs, files in os.walk(dirraw):\r\n",
                "    for file in files:\r\n",
                "        if file.endswith(\".tif\") and not file.startswith('.'):\r\n",
                "            im = Image.open(os.path.join(dirraw, file))\r\n",
                "            imarray = np.array(im)\r\n",
                "            raw.append(imarray)\r\n",
                "raw = np.asarray(raw)\r\n",
                "print(raw.shape,raw.dtype)\r\n",
                "\r\n",
                "for root, dirs, files in os.walk(dirlbl):\r\n",
                "    for file in files:\r\n",
                "        if file.endswith(\".png\") and not file.startswith('.'):\r\n",
                "            im = Image.open(os.path.join(dirlbl, file))\r\n",
                "            imarray = np.array(im)\r\n",
                "            lbl.append(imarray)\r\n",
                "lbl = np.asarray(lbl)\r\n",
                "print(lbl.shape,lbl.dtype)\r\n"
            ],
            "outputs": [
                {
                    "output_type": "stream",
                    "name": "stdout",
                    "text": [
                        "(30, 301, 301) uint16\n",
                        "(30, 301, 301) uint8\n"
                    ]
                }
            ],
            "metadata": {}
        },
        {
            "cell_type": "code",
            "execution_count": null,
            "source": [],
            "outputs": [],
            "metadata": {}
        },
        {
            "cell_type": "code",
            "execution_count": 11,
            "source": [
                "with h5py.File(\"mytestfile2.hdf5\", \"w\") as f:\r\n",
                "    dset_raw = f.create_dataset(\"raw\", data=raw, dtype=\"uint16\")\r\n",
                "    dset_raw = f.create_dataset(\"label\", data=lbl, dtype=\"uint8\")"
            ],
            "outputs": [],
            "metadata": {}
        },
        {
            "cell_type": "code",
            "execution_count": 14,
            "source": [
                "f = h5py.File(os.path.join('data','testdataset','test','Movie1_t00006_crop_gt.h5'), 'r')"
            ],
            "outputs": [],
            "metadata": {}
        },
        {
            "cell_type": "code",
            "execution_count": 15,
            "source": [
                "f.keys()"
            ],
            "outputs": [
                {
                    "output_type": "execute_result",
                    "data": {
                        "text/plain": [
                            "<KeysViewHDF5 ['label', 'raw']>"
                        ]
                    },
                    "metadata": {},
                    "execution_count": 15
                }
            ],
            "metadata": {}
        },
        {
            "cell_type": "code",
            "execution_count": 17,
            "source": [
                "f['raw'].dtype"
            ],
            "outputs": [
                {
                    "output_type": "execute_result",
                    "data": {
                        "text/plain": [
                            "dtype('uint8')"
                        ]
                    },
                    "metadata": {},
                    "execution_count": 17
                }
            ],
            "metadata": {}
        },
        {
            "cell_type": "code",
            "execution_count": null,
            "source": [],
            "outputs": [],
            "metadata": {}
        }
    ],
    "metadata": {
        "orig_nbformat": 4,
        "language_info": {
            "name": "python",
            "version": "3.10.4",
            "mimetype": "text/x-python",
            "codemirror_mode": {
                "name": "ipython",
                "version": 3
            },
            "pygments_lexer": "ipython3",
            "nbconvert_exporter": "python",
            "file_extension": ".py"
        },
        "kernelspec": {
            "name": "python3",
            "display_name": "Python 3.10.4 64-bit"
        },
        "interpreter": {
            "hash": "3ff250ef828488f6b579d29b279a7333fb14724cbec09182bef7669c4443dbd7"
        }
    },
    "nbformat": 4,
    "nbformat_minor": 2
}