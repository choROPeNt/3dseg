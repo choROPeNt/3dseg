{
 "cells": [
  {
   "cell_type": "code",
   "execution_count": 2,
   "metadata": {},
   "outputs": [],
   "source": [
    "import os\n",
    "import matplotlib.pyplot as plt\n",
    "import h5py\n",
    "import k3d\n",
    "import numpy as np\n",
    "from k3d import matplotlib_color_maps"
   ]
  },
  {
   "cell_type": "code",
   "execution_count": 3,
   "metadata": {},
   "outputs": [],
   "source": [
    "file = os.path.join('..','data','rsna-2022-cervical-spine-fracture-detection','train_images','1.2.826.0.1.3680043.780.hdf5')"
   ]
  },
  {
   "cell_type": "code",
   "execution_count": 4,
   "metadata": {},
   "outputs": [],
   "source": [
    "f = h5py.File(os.path.join(file), 'r')"
   ]
  },
  {
   "cell_type": "code",
   "execution_count": 7,
   "metadata": {},
   "outputs": [
    {
     "name": "stdout",
     "output_type": "stream",
     "text": [
      "[0 1 2 3 4 5 6 7 8 9]\n"
     ]
    }
   ],
   "source": [
    "vol = f['label']\n",
    "labels = np.unique(vol)\n",
    "color_map = (0xffff00, 0xff0000, 0x00ff00, 0x00ff00, 0xffff00, 0xff0000, 0x00ff00, 0x00ff00, 0xffff00, 0xff0000, 0x00ff00, 0x00ff00)\n",
    "print(labels)"
   ]
  },
  {
   "cell_type": "code",
   "execution_count": 9,
   "metadata": {},
   "outputs": [
    {
     "ename": "TraitError",
     "evalue": "invalid literal for int() with base 10: 'jet'",
     "output_type": "error",
     "traceback": [
      "\u001b[1;31m---------------------------------------------------------------------------\u001b[0m",
      "\u001b[1;31mValueError\u001b[0m                                Traceback (most recent call last)",
      "File \u001b[1;32mc:\\Users\\dchristi\\AppData\\Local\\Programs\\Python\\Python310\\lib\\site-packages\\traittypes\\traittypes.py:95\u001b[0m, in \u001b[0;36mArray.validate\u001b[1;34m(self, obj, value)\u001b[0m\n\u001b[0;32m     94\u001b[0m \u001b[39mtry\u001b[39;00m:\n\u001b[1;32m---> 95\u001b[0m     r \u001b[39m=\u001b[39m np\u001b[39m.\u001b[39;49masarray(value, dtype\u001b[39m=\u001b[39;49m\u001b[39mself\u001b[39;49m\u001b[39m.\u001b[39;49mdtype)\n\u001b[0;32m     96\u001b[0m     \u001b[39mif\u001b[39;00m \u001b[39misinstance\u001b[39m(value, np\u001b[39m.\u001b[39mndarray) \u001b[39mand\u001b[39;00m r \u001b[39mis\u001b[39;00m \u001b[39mnot\u001b[39;00m value:\n",
      "\u001b[1;31mValueError\u001b[0m: invalid literal for int() with base 10: 'jet'",
      "\nDuring handling of the above exception, another exception occurred:\n",
      "\u001b[1;31mTraitError\u001b[0m                                Traceback (most recent call last)",
      "\u001b[1;32mc:\\Users\\dchristi\\Documents\\Projekte\\MachineLearning\\3dseg\\notebooks\\show_data_set.ipynb Zelle 5\u001b[0m in \u001b[0;36m<cell line: 1>\u001b[1;34m()\u001b[0m\n\u001b[1;32m----> <a href='vscode-notebook-cell:/c%3A/Users/dchristi/Documents/Projekte/MachineLearning/3dseg/notebooks/show_data_set.ipynb#W4sZmlsZQ%3D%3D?line=0'>1</a>\u001b[0m k3d\u001b[39m.\u001b[39;49mvoxels(vol,color_map\u001b[39m=\u001b[39;49m\u001b[39m'\u001b[39;49m\u001b[39mjet\u001b[39;49m\u001b[39m'\u001b[39;49m)\n",
      "File \u001b[1;32mc:\\Users\\dchristi\\AppData\\Local\\Programs\\Python\\Python310\\lib\\site-packages\\k3d\\factory.py:1388\u001b[0m, in \u001b[0;36mvoxels\u001b[1;34m(voxels, color_map, wireframe, outlines, outlines_color, opacity, bounds, name, group, custom_data, compression_level, **kwargs)\u001b[0m\n\u001b[0;32m   1384\u001b[0m     max_z, max_y, max_x \u001b[39m=\u001b[39m np\u001b[39m.\u001b[39mshape(voxels)\n\u001b[0;32m   1385\u001b[0m     kwargs[\u001b[39m\"\u001b[39m\u001b[39mbounds\u001b[39m\u001b[39m\"\u001b[39m] \u001b[39m=\u001b[39m np\u001b[39m.\u001b[39marray([\u001b[39m0\u001b[39m, max_x, \u001b[39m0\u001b[39m, max_y, \u001b[39m0\u001b[39m, max_z])\n\u001b[0;32m   1387\u001b[0m \u001b[39mreturn\u001b[39;00m process_transform_arguments(\n\u001b[1;32m-> 1388\u001b[0m     Voxels(\n\u001b[0;32m   1389\u001b[0m         voxels\u001b[39m=\u001b[39;49mvoxels,\n\u001b[0;32m   1390\u001b[0m         color_map\u001b[39m=\u001b[39;49mcolor_map,\n\u001b[0;32m   1391\u001b[0m         wireframe\u001b[39m=\u001b[39;49mwireframe,\n\u001b[0;32m   1392\u001b[0m         outlines\u001b[39m=\u001b[39;49moutlines,\n\u001b[0;32m   1393\u001b[0m         outlines_color\u001b[39m=\u001b[39;49moutlines_color,\n\u001b[0;32m   1394\u001b[0m         opacity\u001b[39m=\u001b[39;49mopacity,\n\u001b[0;32m   1395\u001b[0m         name\u001b[39m=\u001b[39;49mname,\n\u001b[0;32m   1396\u001b[0m         group\u001b[39m=\u001b[39;49mgroup,\n\u001b[0;32m   1397\u001b[0m         custom_data\u001b[39m=\u001b[39;49mcustom_data,\n\u001b[0;32m   1398\u001b[0m         compression_level\u001b[39m=\u001b[39;49mcompression_level,\n\u001b[0;32m   1399\u001b[0m     ),\n\u001b[0;32m   1400\u001b[0m     \u001b[39m*\u001b[39m\u001b[39m*\u001b[39mkwargs\n\u001b[0;32m   1401\u001b[0m )\n",
      "File \u001b[1;32mc:\\Users\\dchristi\\AppData\\Local\\Programs\\Python\\Python310\\lib\\site-packages\\k3d\\objects.py:1470\u001b[0m, in \u001b[0;36mVoxels.__init__\u001b[1;34m(self, **kwargs)\u001b[0m\n\u001b[0;32m   1469\u001b[0m \u001b[39mdef\u001b[39;00m \u001b[39m__init__\u001b[39m(\u001b[39mself\u001b[39m, \u001b[39m*\u001b[39m\u001b[39m*\u001b[39mkwargs):\n\u001b[1;32m-> 1470\u001b[0m     \u001b[39msuper\u001b[39m(Voxels, \u001b[39mself\u001b[39m)\u001b[39m.\u001b[39m\u001b[39m__init__\u001b[39m(\u001b[39m*\u001b[39m\u001b[39m*\u001b[39mkwargs)\n\u001b[0;32m   1472\u001b[0m     \u001b[39mself\u001b[39m\u001b[39m.\u001b[39mset_trait(\u001b[39m\"\u001b[39m\u001b[39mtype\u001b[39m\u001b[39m\"\u001b[39m, \u001b[39m\"\u001b[39m\u001b[39mVoxels\u001b[39m\u001b[39m\"\u001b[39m)\n",
      "File \u001b[1;32mc:\\Users\\dchristi\\AppData\\Local\\Programs\\Python\\Python310\\lib\\site-packages\\k3d\\objects.py:163\u001b[0m, in \u001b[0;36mDrawableWithVoxelCallback.__init__\u001b[1;34m(self, **kwargs)\u001b[0m\n\u001b[0;32m    162\u001b[0m \u001b[39mdef\u001b[39;00m \u001b[39m__init__\u001b[39m(\u001b[39mself\u001b[39m, \u001b[39m*\u001b[39m\u001b[39m*\u001b[39mkwargs):\n\u001b[1;32m--> 163\u001b[0m     \u001b[39msuper\u001b[39m(DrawableWithVoxelCallback, \u001b[39mself\u001b[39m)\u001b[39m.\u001b[39m\u001b[39m__init__\u001b[39m(\u001b[39m*\u001b[39m\u001b[39m*\u001b[39mkwargs)\n\u001b[0;32m    165\u001b[0m     \u001b[39mself\u001b[39m\u001b[39m.\u001b[39mon_msg(\u001b[39mself\u001b[39m\u001b[39m.\u001b[39m_handle_custom_msg)\n",
      "File \u001b[1;32mc:\\Users\\dchristi\\AppData\\Local\\Programs\\Python\\Python310\\lib\\site-packages\\k3d\\objects.py:108\u001b[0m, in \u001b[0;36mDrawable.__init__\u001b[1;34m(self, **kwargs)\u001b[0m\n\u001b[0;32m    105\u001b[0m \u001b[39mdef\u001b[39;00m \u001b[39m__init__\u001b[39m(\u001b[39mself\u001b[39m, \u001b[39m*\u001b[39m\u001b[39m*\u001b[39mkwargs):\n\u001b[0;32m    106\u001b[0m     \u001b[39mself\u001b[39m\u001b[39m.\u001b[39mid \u001b[39m=\u001b[39m \u001b[39mid\u001b[39m(\u001b[39mself\u001b[39m)\n\u001b[1;32m--> 108\u001b[0m     \u001b[39msuper\u001b[39m(Drawable, \u001b[39mself\u001b[39m)\u001b[39m.\u001b[39m\u001b[39m__init__\u001b[39m(\u001b[39m*\u001b[39m\u001b[39m*\u001b[39mkwargs)\n",
      "File \u001b[1;32mc:\\Users\\dchristi\\AppData\\Local\\Programs\\Python\\Python310\\lib\\site-packages\\ipywidgets\\widgets\\widget.py:477\u001b[0m, in \u001b[0;36mWidget.__init__\u001b[1;34m(self, **kwargs)\u001b[0m\n\u001b[0;32m    475\u001b[0m \u001b[39m\"\"\"Public constructor\"\"\"\u001b[39;00m\n\u001b[0;32m    476\u001b[0m \u001b[39mself\u001b[39m\u001b[39m.\u001b[39m_model_id \u001b[39m=\u001b[39m kwargs\u001b[39m.\u001b[39mpop(\u001b[39m'\u001b[39m\u001b[39mmodel_id\u001b[39m\u001b[39m'\u001b[39m, \u001b[39mNone\u001b[39;00m)\n\u001b[1;32m--> 477\u001b[0m \u001b[39msuper\u001b[39m(Widget, \u001b[39mself\u001b[39m)\u001b[39m.\u001b[39m\u001b[39m__init__\u001b[39m(\u001b[39m*\u001b[39m\u001b[39m*\u001b[39mkwargs)\n\u001b[0;32m    479\u001b[0m Widget\u001b[39m.\u001b[39m_call_widget_constructed(\u001b[39mself\u001b[39m)\n\u001b[0;32m    480\u001b[0m \u001b[39mself\u001b[39m\u001b[39m.\u001b[39mopen()\n",
      "File \u001b[1;32mc:\\Users\\dchristi\\AppData\\Local\\Programs\\Python\\Python310\\lib\\site-packages\\traitlets\\traitlets.py:1235\u001b[0m, in \u001b[0;36mHasTraits.__init__\u001b[1;34m(self, *args, **kwargs)\u001b[0m\n\u001b[0;32m   1233\u001b[0m \u001b[39mfor\u001b[39;00m key, value \u001b[39min\u001b[39;00m kwargs\u001b[39m.\u001b[39mitems():\n\u001b[0;32m   1234\u001b[0m     \u001b[39mif\u001b[39;00m \u001b[39mself\u001b[39m\u001b[39m.\u001b[39mhas_trait(key):\n\u001b[1;32m-> 1235\u001b[0m         \u001b[39msetattr\u001b[39;49m(\u001b[39mself\u001b[39;49m, key, value)\n\u001b[0;32m   1236\u001b[0m     \u001b[39melse\u001b[39;00m:\n\u001b[0;32m   1237\u001b[0m         \u001b[39m# passthrough args that don't set traits to super\u001b[39;00m\n\u001b[0;32m   1238\u001b[0m         super_kwargs[key] \u001b[39m=\u001b[39m value\n",
      "File \u001b[1;32mc:\\Users\\dchristi\\AppData\\Local\\Programs\\Python\\Python310\\lib\\site-packages\\traitlets\\traitlets.py:715\u001b[0m, in \u001b[0;36mTraitType.__set__\u001b[1;34m(self, obj, value)\u001b[0m\n\u001b[0;32m    713\u001b[0m     \u001b[39mraise\u001b[39;00m TraitError(\u001b[39m'\u001b[39m\u001b[39mThe \u001b[39m\u001b[39m\"\u001b[39m\u001b[39m%s\u001b[39;00m\u001b[39m\"\u001b[39m\u001b[39m trait is read-only.\u001b[39m\u001b[39m'\u001b[39m \u001b[39m%\u001b[39m \u001b[39mself\u001b[39m\u001b[39m.\u001b[39mname)\n\u001b[0;32m    714\u001b[0m \u001b[39melse\u001b[39;00m:\n\u001b[1;32m--> 715\u001b[0m     \u001b[39mself\u001b[39;49m\u001b[39m.\u001b[39;49mset(obj, value)\n",
      "File \u001b[1;32mc:\\Users\\dchristi\\AppData\\Local\\Programs\\Python\\Python310\\lib\\site-packages\\traittypes\\traittypes.py:108\u001b[0m, in \u001b[0;36mArray.set\u001b[1;34m(self, obj, value)\u001b[0m\n\u001b[0;32m    107\u001b[0m \u001b[39mdef\u001b[39;00m \u001b[39mset\u001b[39m(\u001b[39mself\u001b[39m, obj, value):\n\u001b[1;32m--> 108\u001b[0m     new_value \u001b[39m=\u001b[39m \u001b[39mself\u001b[39;49m\u001b[39m.\u001b[39;49m_validate(obj, value)\n\u001b[0;32m    109\u001b[0m     old_value \u001b[39m=\u001b[39m obj\u001b[39m.\u001b[39m_trait_values\u001b[39m.\u001b[39mget(\u001b[39mself\u001b[39m\u001b[39m.\u001b[39mname, \u001b[39mself\u001b[39m\u001b[39m.\u001b[39mdefault_value)\n\u001b[0;32m    110\u001b[0m     obj\u001b[39m.\u001b[39m_trait_values[\u001b[39mself\u001b[39m\u001b[39m.\u001b[39mname] \u001b[39m=\u001b[39m new_value\n",
      "File \u001b[1;32mc:\\Users\\dchristi\\AppData\\Local\\Programs\\Python\\Python310\\lib\\site-packages\\traitlets\\traitlets.py:721\u001b[0m, in \u001b[0;36mTraitType._validate\u001b[1;34m(self, obj, value)\u001b[0m\n\u001b[0;32m    719\u001b[0m     \u001b[39mreturn\u001b[39;00m value\n\u001b[0;32m    720\u001b[0m \u001b[39mif\u001b[39;00m \u001b[39mhasattr\u001b[39m(\u001b[39mself\u001b[39m, \u001b[39m\"\u001b[39m\u001b[39mvalidate\u001b[39m\u001b[39m\"\u001b[39m):\n\u001b[1;32m--> 721\u001b[0m     value \u001b[39m=\u001b[39m \u001b[39mself\u001b[39;49m\u001b[39m.\u001b[39;49mvalidate(obj, value)  \u001b[39m# type:ignore[attr-defined]\u001b[39;00m\n\u001b[0;32m    722\u001b[0m \u001b[39mif\u001b[39;00m obj\u001b[39m.\u001b[39m_cross_validation_lock \u001b[39mis\u001b[39;00m \u001b[39mFalse\u001b[39;00m:\n\u001b[0;32m    723\u001b[0m     value \u001b[39m=\u001b[39m \u001b[39mself\u001b[39m\u001b[39m.\u001b[39m_cross_validate(obj, value)\n",
      "File \u001b[1;32mc:\\Users\\dchristi\\AppData\\Local\\Programs\\Python\\Python310\\lib\\site-packages\\traittypes\\traittypes.py:104\u001b[0m, in \u001b[0;36mArray.validate\u001b[1;34m(self, obj, value)\u001b[0m\n\u001b[0;32m    102\u001b[0m     value \u001b[39m=\u001b[39m r\n\u001b[0;32m    103\u001b[0m \u001b[39mexcept\u001b[39;00m (\u001b[39mValueError\u001b[39;00m, \u001b[39mTypeError\u001b[39;00m) \u001b[39mas\u001b[39;00m e:\n\u001b[1;32m--> 104\u001b[0m     \u001b[39mraise\u001b[39;00m TraitError(e)\n\u001b[0;32m    105\u001b[0m \u001b[39mreturn\u001b[39;00m \u001b[39msuper\u001b[39m(Array, \u001b[39mself\u001b[39m)\u001b[39m.\u001b[39mvalidate(obj, value)\n",
      "\u001b[1;31mTraitError\u001b[0m: invalid literal for int() with base 10: 'jet'"
     ]
    }
   ],
   "source": [
    "k3d.voxels(vol,color_map='tab20')"
   ]
  },
  {
   "cell_type": "code",
   "execution_count": null,
   "metadata": {},
   "outputs": [],
   "source": []
  }
 ],
 "metadata": {
  "kernelspec": {
   "display_name": "Python 3.10.4 64-bit",
   "language": "python",
   "name": "python3"
  },
  "language_info": {
   "codemirror_mode": {
    "name": "ipython",
    "version": 3
   },
   "file_extension": ".py",
   "mimetype": "text/x-python",
   "name": "python",
   "nbconvert_exporter": "python",
   "pygments_lexer": "ipython3",
   "version": "3.10.4"
  },
  "orig_nbformat": 4,
  "vscode": {
   "interpreter": {
    "hash": "8a4e2b15c906bac296933e22611a155d0bb48b80adbf4f3cf9d1c13b7f9b7653"
   }
  }
 },
 "nbformat": 4,
 "nbformat_minor": 2
}
