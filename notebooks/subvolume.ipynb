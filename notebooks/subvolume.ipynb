{
 "cells": [
  {
   "cell_type": "code",
   "execution_count": 2,
   "metadata": {},
   "outputs": [],
   "source": [
    "import os\n",
    "import h5py as h5\n",
    "import numpy as np\n",
    "import nrrd\n",
    "import matplotlib.pyplot as plt"
   ]
  },
  {
   "cell_type": "code",
   "execution_count": 3,
   "metadata": {},
   "outputs": [],
   "source": [
    "# file_seg = \"../data/160_10-layer/volumes/00/160_10-layer_00_predictions.nrrd\"\n",
    "file_raw = \"/Volumes/LaCie/scratch/160_10-layer/volumes/00/160_10-layer_00.h5\"\n",
    "\n",
    "assert os.path.exists(file_raw)"
   ]
  },
  {
   "cell_type": "code",
   "execution_count": 4,
   "metadata": {},
   "outputs": [
    {
     "name": "stdout",
     "output_type": "stream",
     "text": [
      "<KeysViewHDF5 ['raw', 'volume_data']>\n",
      "raw\n",
      "(500, 2300, 2300)\n",
      "5044.9371337890625\n",
      "uint16\n",
      "volume_data\n"
     ]
    }
   ],
   "source": [
    "vol = {}\n",
    "vol_config = {}\n",
    "with h5.File(file_raw,\"r\") as f:\n",
    "    print(f.keys())\n",
    "    for key in f.keys():\n",
    "        print(key)\n",
    "        if key == \"raw\":\n",
    "            vol[key] = f[key][:]\n",
    "            print(f[key].shape)\n",
    "            print(f[key].nbytes/1024**2)\n",
    "            print(f[key].dtype)\n",
    "        if key == \"volume_data\":\n",
    "            group = f[key]\n",
    "            for subkey in group.keys():\n",
    "                subarray = group[subkey][...]\n",
    "                vol_config[subkey] = subarray"
   ]
  },
  {
   "cell_type": "code",
   "execution_count": 5,
   "metadata": {},
   "outputs": [
    {
     "data": {
      "text/plain": [
       "(500, 2300, 2300)"
      ]
     },
     "execution_count": 5,
     "metadata": {},
     "output_type": "execute_result"
    }
   ],
   "source": [
    "raw = vol[\"raw\"]\n",
    "raw.shape"
   ]
  },
  {
   "cell_type": "code",
   "execution_count": 6,
   "metadata": {},
   "outputs": [],
   "source": [
    "\n",
    "\n",
    "def extract_grid(volume, num_rows, num_cols):\n",
    "    \"\"\"\n",
    "    Extract a grid of squares from a 2D NumPy array.\n",
    "\n",
    "    Parameters:\n",
    "    - image: 2D NumPy array representing the image\n",
    "    - num_rows: Number of rows in the grid\n",
    "    - num_cols: Number of columns in the grid\n",
    "\n",
    "    Returns:\n",
    "    - List of subarrays representing the grid squares\n",
    "    \"\"\"\n",
    "    _, rows, cols = volume.shape\n",
    "    square_size_row = rows // num_rows\n",
    "    square_size_col = cols // num_cols\n",
    "    subarrays = []\n",
    "    for i in range(num_rows):\n",
    "        row_subarrays=[]\n",
    "        for j in range(num_cols):\n",
    "            subarray = volume[:,i * square_size_row:(i + 1) * square_size_row,\n",
    "                             j * square_size_col:(j + 1) * square_size_col]\n",
    "            row_subarrays.append(subarray)\n",
    "        subarrays.append(row_subarrays)\n",
    "    return subarrays\n",
    "\n"
   ]
  },
  {
   "cell_type": "code",
   "execution_count": 7,
   "metadata": {},
   "outputs": [],
   "source": [
    "num_rows = 10  # Example: 4 rows in the grid\n",
    "num_cols = 10  # Example: 4 columns in the grid\n",
    "\n",
    "raw_subarrays = extract_grid(raw, num_rows, num_cols)\n",
    "# seg_subarrays = extract_grid(seg, num_rows, num_cols)"
   ]
  },
  {
   "cell_type": "code",
   "execution_count": 8,
   "metadata": {},
   "outputs": [],
   "source": [
    "def create_nrrd_header(size, spacing, data_type='float', space='left-posterior-superior'):\n",
    "    header = {\n",
    "        'type': data_type,\n",
    "        'dimension': len(size),\n",
    "        'space dimension': len(size),\n",
    "        'sizes': size,\n",
    "        'space': space,\n",
    "    }\n",
    "\n",
    "    if len(spacing) == len(size):\n",
    "        header['space directions'] = np.diag(spacing).tolist()\n",
    "        header['kinds'] = ['domain'] * len(size)\n",
    "\n",
    "    header.update({\n",
    "        'endian': 'little',\n",
    "        'encoding': 'raw',\n",
    "    })\n",
    "\n",
    "    return header\n"
   ]
  },
  {
   "cell_type": "code",
   "execution_count": 9,
   "metadata": {},
   "outputs": [],
   "source": [
    "def numpy_dtype_to_nrrd_dtype(dtype):\n",
    "    \"\"\"\n",
    "    Convert NumPy dtype to NRRD dtype string.\n",
    "\n",
    "    Parameters:\n",
    "    - dtype: NumPy dtype object\n",
    "\n",
    "    Returns:\n",
    "    - NRRD dtype string\n",
    "    \"\"\"\n",
    "    dtype_mapping = {\n",
    "        np.uint8: 'uint8',\n",
    "        np.uint16: 'uint16',\n",
    "        np.uint32: 'uint32',\n",
    "        np.uint64: 'uint64',\n",
    "        np.int8: 'int8',\n",
    "        np.int16: 'int16',\n",
    "        np.int32: 'int32',\n",
    "        np.int64: 'int64',\n",
    "        np.float16: 'float16',\n",
    "        np.float32: 'float32',\n",
    "        np.float64: 'float64',\n",
    "    }\n",
    "\n",
    "    return dtype_mapping.get(dtype, 'unknown')\n"
   ]
  },
  {
   "cell_type": "code",
   "execution_count": 10,
   "metadata": {},
   "outputs": [
    {
     "data": {
      "text/plain": [
       "{'Datatype': array(b'uint16', dtype=object),\n",
       " 'HistogramUpToDate': array(True),\n",
       " 'Max': array(65535),\n",
       " 'Min': array(0),\n",
       " 'Offset': array(347.095),\n",
       " 'Origin': array([0, 0, 0]),\n",
       " 'Scale': array(10.9314),\n",
       " 'SizeX': array(2300),\n",
       " 'SizeY': array(2300),\n",
       " 'SizeZ': array(500),\n",
       " 'UsedBits': array(16),\n",
       " 'VoxelSizeX': array(0.020618),\n",
       " 'VoxelSizeY': array(0.020618),\n",
       " 'VoxelSizeZ': array(0.020618)}"
      ]
     },
     "execution_count": 10,
     "metadata": {},
     "output_type": "execute_result"
    }
   ],
   "source": [
    "vol_config"
   ]
  },
  {
   "cell_type": "code",
   "execution_count": 12,
   "metadata": {},
   "outputs": [
    {
     "name": "stdout",
     "output_type": "stream",
     "text": [
      "(500, 230, 230)\n",
      "160_10-layer_00_0460-0690_0690-0920 23\n"
     ]
    }
   ],
   "source": [
    "path = os.path.join(os.path.dirname(file_raw))\n",
    "file_name = os.path.splitext(os.path.basename(file_raw))[0]\n",
    "\n",
    "\n",
    "\n",
    "flag = False\n",
    "\n",
    "VoxelSizeX = vol_config[\"VoxelSizeX\"]\n",
    "VoxelSizeY = vol_config[\"VoxelSizeY\"]\n",
    "VoxelSizeZ = vol_config[\"VoxelSizeZ\"]\n",
    "\n",
    "padding_row = raw.shape[1]//num_rows\n",
    "padding_col = raw.shape[2]//num_cols\n",
    "for n, ( raw_subs) in enumerate(raw_subarrays):\n",
    "    for k, ( raw_sub) in enumerate(raw_subs):     \n",
    "        row_start = n*padding_row\n",
    "        row_end = (n+1)*padding_row\n",
    "\n",
    "        col_start = k*padding_col\n",
    "        col_end = (k+1)*padding_col\n",
    "        raw_sub = raw_sub\n",
    "\n",
    "\n",
    "\n",
    "        size = raw_sub.shape\n",
    "        spacing = (VoxelSizeZ,VoxelSizeY,VoxelSizeX)\n",
    "        data_type = numpy_dtype_to_nrrd_dtype(raw_sub.dtype)\n",
    "\n",
    "        space = 'left-posterior-superior'\n",
    "\n",
    "        header = create_nrrd_header(size, spacing, data_type, space)\n",
    "        \n",
    "\n",
    "        # fileout = file_name + \"_%04d-%04d_%04d-%04d\" %(row_start,row_end,col_start,col_end)\n",
    "        # print(fileout,\"%01d%01d\" %(n,k))\n",
    "\n",
    "        vol_config[\"SizeZ\"] = raw_sub.shape[0]\n",
    "        vol_config[\"SizeY\"] = raw_sub.shape[1]\n",
    "        vol_config[\"SizeX\"] = raw_sub.shape[2]\n",
    "\n",
    "        vol_config[\"Min\"] = np.min(raw_sub)\n",
    "        vol_config[\"Max\"] = np.max(raw_sub)\n",
    "        \n",
    "        vol_config[\"RangeZ0\"] = 0\n",
    "        vol_config[\"RangeZ1\"] = 500\n",
    "\n",
    "\n",
    "        vol_config[\"RangeY0\"] = row_start\n",
    "        vol_config[\"RangeY1\"] = row_end\n",
    "\n",
    "        vol_config[\"RangeX0\"] = col_start\n",
    "        vol_config[\"RangeX1\"] = col_end\n",
    "\n",
    "        vol_config[\"Origin\"] = (0,row_start,col_start)\n",
    "\n",
    "        if n == 2 and k == 3:\n",
    "            print(raw_sub.shape)\n",
    "\n",
    "            fileout = file_name + \"_%04d-%04d_%04d-%04d\" %(row_start,row_end,col_start,col_end)\n",
    "            print(fileout,\"%01d%01d\" %(n,k))\n",
    "\n",
    "            nrrd.write(os.path.join(path,fileout + \".nrrd\"), raw_sub,header=header)\n",
    "            with h5.File(os.path.join(path,fileout + \".h5\"), 'w') as fout:\n",
    "                \n",
    "\n",
    "                fout.create_dataset(\"raw\", data = raw_sub,compression=\"gzip\")\n",
    "\n",
    "                volume_group = fout.create_group('volume_data')\n",
    "                for key, value in vol_config.items():\n",
    "                    volume_group.create_dataset(key, data=value)\n",
    "\n"
   ]
  },
  {
   "cell_type": "code",
   "execution_count": 10,
   "metadata": {},
   "outputs": [
    {
     "name": "stdout",
     "output_type": "stream",
     "text": [
      "(2300, 0, 230)\n",
      "1150 1380 1150 1380\n"
     ]
    },
    {
     "ename": "IndexError",
     "evalue": "index 0 is out of bounds for axis 1 with size 0",
     "output_type": "error",
     "traceback": [
      "\u001b[0;31m---------------------------------------------------------------------------\u001b[0m",
      "\u001b[0;31mIndexError\u001b[0m                                Traceback (most recent call last)",
      "Cell \u001b[0;32mIn[10], line 12\u001b[0m\n\u001b[1;32m     10\u001b[0m \u001b[38;5;28mprint\u001b[39m(subarray\u001b[38;5;241m.\u001b[39mshape)\n\u001b[1;32m     11\u001b[0m \u001b[38;5;28mprint\u001b[39m(i \u001b[38;5;241m*\u001b[39m square_size_row,(i \u001b[38;5;241m+\u001b[39m \u001b[38;5;241m1\u001b[39m) \u001b[38;5;241m*\u001b[39m square_size_row,j \u001b[38;5;241m*\u001b[39m square_size_col,(j \u001b[38;5;241m+\u001b[39m \u001b[38;5;241m1\u001b[39m) \u001b[38;5;241m*\u001b[39m square_size_col)\n\u001b[0;32m---> 12\u001b[0m plt\u001b[38;5;241m.\u001b[39mimshow(\u001b[43msubarray\u001b[49m\u001b[43m[\u001b[49m\u001b[43m:\u001b[49m\u001b[43m,\u001b[49m\u001b[38;5;241;43m0\u001b[39;49m\u001b[43m,\u001b[49m\u001b[43m:\u001b[49m\u001b[43m]\u001b[49m,cmap\u001b[38;5;241m=\u001b[39m\u001b[38;5;124m\"\u001b[39m\u001b[38;5;124mgray\u001b[39m\u001b[38;5;124m\"\u001b[39m)\n",
      "\u001b[0;31mIndexError\u001b[0m: index 0 is out of bounds for axis 1 with size 0"
     ]
    }
   ],
   "source": [
    "square_size_col = 230\n",
    "square_size_row = 230\n",
    "\n",
    "i = 5\n",
    "j = 5\n",
    "\n",
    "\n",
    "subarray = vol[\"raw\"][:,i * square_size_row:(i + 1) * square_size_row,j * square_size_col:(j + 1) * square_size_col]\n",
    "\n",
    "print(subarray.shape)\n",
    "print(i * square_size_row,(i + 1) * square_size_row,j * square_size_col,(j + 1) * square_size_col)\n",
    "plt.imshow(subarray[:,0,:],cmap=\"gray\")"
   ]
  },
  {
   "cell_type": "code",
   "execution_count": null,
   "metadata": {},
   "outputs": [],
   "source": []
  }
 ],
 "metadata": {
  "kernelspec": {
   "display_name": ".venv_3dseg",
   "language": "python",
   "name": "python3"
  },
  "language_info": {
   "codemirror_mode": {
    "name": "ipython",
    "version": 3
   },
   "file_extension": ".py",
   "mimetype": "text/x-python",
   "name": "python",
   "nbconvert_exporter": "python",
   "pygments_lexer": "ipython3",
   "version": "3.11.7"
  }
 },
 "nbformat": 4,
 "nbformat_minor": 2
}
