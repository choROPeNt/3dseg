{
    "cells": [
        {
            "cell_type": "code",
            "execution_count": 1,
            "metadata": {},
            "outputs": [],
            "source": [
                "import os\n",
                "import h5py\n",
                "from PIL import Image\n",
                "import numpy as np"
            ]
        },
        {
            "cell_type": "code",
            "execution_count": 13,
            "metadata": {},
            "outputs": [
                {
                    "name": "stdout",
                    "output_type": "stream",
                    "text": [
                        "(30, 301, 301) uint16\n",
                        "(30, 301, 301) uint8\n"
                    ]
                }
            ],
            "source": [
                "dirraw = os.path.join(\"data\",\"Neapel\",\"original_data\",\"imgs_16bit\")\n",
                "dirlbl = os.path.join(\"data\",\"Neapel\",\"original_data\",\"PixelLabelData\")\n",
                "raw = []\n",
                "lbl = []\n",
                "\n",
                "for root, dirs, files in os.walk(dirraw):\n",
                "    for file in files:\n",
                "        if file.endswith(\".tif\") and not file.startswith('.'):\n",
                "            im = Image.open(os.path.join(dirraw, file))\n",
                "            imarray = np.array(im)\n",
                "            raw.append(imarray)\n",
                "raw = np.asarray(raw)\n",
                "print(raw.shape,raw.dtype)\n",
                "\n",
                "for root, dirs, files in os.walk(dirlbl):\n",
                "    for file in files:\n",
                "        if file.endswith(\".png\") and not file.startswith('.'):\n",
                "            im = Image.open(os.path.join(dirlbl, file))\n",
                "            imarray = np.array(im)\n",
                "            lbl.append(imarray)\n",
                "lbl = np.asarray(lbl)\n",
                "print(lbl.shape,lbl.dtype)\n"
            ]
        },
        {
            "cell_type": "code",
            "execution_count": null,
            "metadata": {},
            "outputs": [],
            "source": []
        },
        {
            "cell_type": "code",
            "execution_count": 11,
            "metadata": {},
            "outputs": [],
            "source": [
                "with h5py.File(\"mytestfile2.hdf5\", \"w\") as f:\n",
                "    dset_raw = f.create_dataset(\"raw\", data=raw, dtype=\"uint16\")\n",
                "    dset_raw = f.create_dataset(\"label\", data=lbl, dtype=\"uint8\")"
            ]
        },
        {
            "cell_type": "code",
            "execution_count": 14,
            "metadata": {},
            "outputs": [],
            "source": [
                "f = h5py.File(os.path.join('data','testdataset','test','Movie1_t00006_crop_gt.h5'), 'r')"
            ]
        },
        {
            "cell_type": "code",
            "execution_count": 15,
            "metadata": {},
            "outputs": [
                {
                    "data": {
                        "text/plain": [
                            "<KeysViewHDF5 ['label', 'raw']>"
                        ]
                    },
                    "execution_count": 15,
                    "metadata": {},
                    "output_type": "execute_result"
                }
            ],
            "source": [
                "f.keys()"
            ]
        },
        {
            "cell_type": "code",
            "execution_count": 17,
            "metadata": {},
            "outputs": [
                {
                    "data": {
                        "text/plain": [
                            "dtype('uint8')"
                        ]
                    },
                    "execution_count": 17,
                    "metadata": {},
                    "output_type": "execute_result"
                }
            ],
            "source": [
                "f['raw'].dtype"
            ]
        },
        {
            "cell_type": "code",
            "execution_count": null,
            "metadata": {},
            "outputs": [],
            "source": []
        }
    ],
    "metadata": {
        "kernelspec": {
            "display_name": "Python 3.10.4 64-bit",
            "language": "python",
            "name": "python3"
        },
        "language_info": {
            "codemirror_mode": {
                "name": "ipython",
                "version": 3
            },
            "file_extension": ".py",
            "mimetype": "text/x-python",
            "name": "python",
            "nbconvert_exporter": "python",
            "pygments_lexer": "ipython3",
            "version": "3.10.4"
        },
        "orig_nbformat": 4,
        "vscode": {
            "interpreter": {
                "hash": "8a4e2b15c906bac296933e22611a155d0bb48b80adbf4f3cf9d1c13b7f9b7653"
            }
        }
    },
    "nbformat": 4,
    "nbformat_minor": 2
}
