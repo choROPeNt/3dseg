{
 "cells": [
  {
   "cell_type": "code",
   "execution_count": 9,
   "metadata": {},
   "outputs": [],
   "source": [
    "import os\n",
    "import h5py\n",
    "import numpy as np\n",
    "import matplotlib.pyplot as plt"
   ]
  },
  {
   "cell_type": "code",
   "execution_count": 10,
   "metadata": {},
   "outputs": [],
   "source": [
    "path = \"../data/pore-detection/Parallelprobe_Porenerkennung_Training/ML_input\"\n",
    "\n",
    "file_raw = \"Parallelprobe_Grauwerte.h5\" \n",
    "file_bin = \"Parallelprobe_Binaer.h5\" "
   ]
  },
  {
   "cell_type": "code",
   "execution_count": 13,
   "metadata": {},
   "outputs": [
    {
     "name": "stdout",
     "output_type": "stream",
     "text": [
      "Groups:\n",
      "data\n",
      "Groups:\n",
      "data\n"
     ]
    }
   ],
   "source": [
    "data = {}\n",
    "\n",
    "with h5py.File(os.path.join(path,file_raw), \"r\") as file:\n",
    "    \n",
    "    # List all the groups in the HDF5 file\n",
    "    print(\"Groups:\")\n",
    "    for group in file:\n",
    "        print(group)\n",
    "\n",
    "    data[\"raw\"] = np.array(file['data']).astype(np.uint16)\n",
    "    \n",
    "    \n",
    "with h5py.File(os.path.join(path,file_bin), \"r\") as file:\n",
    "    \n",
    "    # List all the groups in the HDF5 file\n",
    "    print(\"Groups:\")\n",
    "    for group in file:\n",
    "        print(group)\n",
    "\n",
    "    data[\"labels\"] = np.array(file['data'][:]).astype(np.uint8)\n"
   ]
  },
  {
   "cell_type": "code",
   "execution_count": 14,
   "metadata": {},
   "outputs": [
    {
     "name": "stdout",
     "output_type": "stream",
     "text": [
      "raw\n",
      "uint16\n",
      "(763, 211, 886)\n",
      "14431 0\n",
      "labels\n",
      "uint8\n",
      "(763, 211, 886)\n",
      "1 0\n"
     ]
    }
   ],
   "source": [
    "for key,item in data.items():\n",
    "    print(key)\n",
    "    print(item.dtype)\n",
    "    print(item.shape)\n",
    "    print(item.max(),item.min())"
   ]
  },
  {
   "cell_type": "code",
   "execution_count": 17,
   "metadata": {},
   "outputs": [],
   "source": [
    "mask1 = data[\"labels\"][np.newaxis, :, :, :]\n",
    "mask2 = np.bitwise_xor(data[\"labels\"],1)[np.newaxis, :, :, :]\n",
    "\n",
    "data[\"masks\"] = np.concatenate((mask2, mask1), axis=0).astype(bool)\n"
   ]
  },
  {
   "cell_type": "code",
   "execution_count": 18,
   "metadata": {},
   "outputs": [
    {
     "data": {
      "image/png": "[encoded data removed]",
      "text/plain": [
       "<Figure size 640x480 with 1 Axes>"
      ]
     },
     "metadata": {},
     "output_type": "display_data"
    },
    {
     "data": {
      "image/png": "[encoded data removed]",
      "text/plain": [
       "<Figure size 640x480 with 1 Axes>"
      ]
     },
     "metadata": {},
     "output_type": "display_data"
    }
   ],
   "source": [
    "plt.imshow(data[\"masks\"][0,3,::])\n",
    "plt.show()\n",
    "plt.imshow(data[\"masks\"][1,3,::])\n",
    "plt.show()"
   ]
  },
  {
   "cell_type": "code",
   "execution_count": 6,
   "metadata": {},
   "outputs": [
    {
     "ename": "IndexError",
     "evalue": "too many indices for array: array is 1-dimensional, but 3 were indexed",
     "output_type": "error",
     "traceback": [
      "\u001b[0;31m---------------------------------------------------------------------------\u001b[0m",
      "\u001b[0;31mIndexError\u001b[0m                                Traceback (most recent call last)",
      "Cell \u001b[0;32mIn[6], line 1\u001b[0m\n\u001b[0;32m----> 1\u001b[0m plt\u001b[38;5;241m.\u001b[39mimshow(\u001b[43mdata\u001b[49m\u001b[43m[\u001b[49m\u001b[38;5;124;43m\"\u001b[39;49m\u001b[38;5;124;43mraw\u001b[39;49m\u001b[38;5;124;43m\"\u001b[39;49m\u001b[43m]\u001b[49m\u001b[43m[\u001b[49m\u001b[38;5;241;43m3\u001b[39;49m\u001b[43m,\u001b[49m\u001b[43m:\u001b[49m\u001b[43m,\u001b[49m\u001b[43m:\u001b[49m\u001b[43m]\u001b[49m)\n",
      "\u001b[0;31mIndexError\u001b[0m: too many indices for array: array is 1-dimensional, but 3 were indexed"
     ]
    }
   ],
   "source": [
    "plt.imshow(data[\"raw\"][3,:,:])"
   ]
  },
  {
   "cell_type": "code",
   "execution_count": 19,
   "metadata": {},
   "outputs": [],
   "source": [
    "\n",
    "with h5py.File(os.path.join(path,\"Parallelprobe_train.h5\"), 'w') as f:\n",
    "    for key,item in data.items():\n",
    "        f.create_dataset(key, data = item)"
   ]
  },
  {
   "cell_type": "code",
   "execution_count": 2,
   "metadata": {},
   "outputs": [],
   "source": [
    "path = \"../data/pore-detection/\"\n",
    "\n",
    "file_raw = \"pinnprobe_valid.h5\" \n",
    "# file_bin = \"Parallelprobe_Binaer.h5\" "
   ]
  },
  {
   "cell_type": "code",
   "execution_count": 4,
   "metadata": {},
   "outputs": [
    {
     "name": "stdout",
     "output_type": "stream",
     "text": [
      "Groups:\n"
     ]
    }
   ],
   "source": [
    "data = {}\n",
    "\n",
    "with h5py.File(os.path.join(path,file_raw), \"r\") as file:\n",
    "    \n",
    "    # List all the groups in the HDF5 file\n",
    "    print(\"Groups:\")\n",
    "    for group in file:\n",
    "        data[group] = file[group][:]"
   ]
  },
  {
   "cell_type": "code",
   "execution_count": 6,
   "metadata": {},
   "outputs": [],
   "source": [
    "data[\"labels\"] = data[\"labels\"].astype(np.uint8)"
   ]
  },
  {
   "cell_type": "code",
   "execution_count": 7,
   "metadata": {},
   "outputs": [
    {
     "name": "stdout",
     "output_type": "stream",
     "text": [
      "labels\n",
      "uint8\n",
      "(833, 207, 802)\n",
      "1 0\n",
      "masks\n",
      "bool\n",
      "(2, 833, 207, 802)\n",
      "True False\n",
      "raw\n",
      "uint16\n",
      "(833, 207, 802)\n",
      "29564 0\n"
     ]
    }
   ],
   "source": [
    "for key,item in data.items():\n",
    "    print(key)\n",
    "    print(item.dtype)\n",
    "    print(item.shape)\n",
    "    print(item.max(),item.min())"
   ]
  },
  {
   "cell_type": "code",
   "execution_count": 8,
   "metadata": {},
   "outputs": [],
   "source": [
    "with h5py.File(os.path.join(path,\"pinnprobe_valid.h5\"), 'w') as f:\n",
    "    for key,item in data.items():\n",
    "        f.create_dataset(key, data = item)"
   ]
  }
 ],
 "metadata": {
  "kernelspec": {
   "display_name": ".venv_3dseg",
   "language": "python",
   "name": "python3"
  },
  "language_info": {
   "codemirror_mode": {
    "name": "ipython",
    "version": 3
   },
   "file_extension": ".py",
   "mimetype": "text/x-python",
   "name": "python",
   "nbconvert_exporter": "python",
   "pygments_lexer": "ipython3",
   "version": "3.11.7"
  }
 },
 "nbformat": 4,
 "nbformat_minor": 2
}
