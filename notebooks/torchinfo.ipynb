{
 "cells": [
  {
   "cell_type": "code",
   "execution_count": 1,
   "metadata": {},
   "outputs": [],
   "source": [
    "from torchinfo import summary\n",
    "import os\n",
    "# if using Apple MPS, fall back to CPU for unsupported ops\n",
    "os.environ[\"PYTORCH_ENABLE_MPS_FALLBACK\"] = \"1\"\n",
    "from torch3dseg.utils import model\n",
    "from torch3dseg.utils.model import get_model\n",
    "import torch"
   ]
  },
  {
   "cell_type": "code",
   "execution_count": 2,
   "metadata": {},
   "outputs": [],
   "source": [
    "config = {\n",
    "    \"model\": {\n",
    "      \"name\": \"ResidualUNet3D\",\n",
    "      # number of input channels to the model\n",
    "      \"in_channels\": 1,\n",
    "      # number of output channels\n",
    "      \"out_channels\": 3,\n",
    "      # determines the order of operators in a single layer (crg - Conv3d+ReLU+GroupNorm)\n",
    "      \"layer_order\": \"gcr\",\n",
    "      # initial number of feature maps\n",
    "      \"f_maps\": 64, \n",
    "      # number of groups in the groupnorm\n",
    "      \"num_groups\": 8,\n",
    "      # apply element-wise nn.Sigmoid after the final 1x1x1 convolution, otherwise apply nn.Softmax\n",
    "      \"final_sigmoid\": False,\n",
    "      # if True applies the final normalization layer (sigmoid or softmax), otherwise the networks returns the output from the final convolution layer; use False for regression problems, e.g. de-noising\n",
    "      \"is_segmentation\": True,\n",
    "    }\n",
    "  }"
   ]
  },
  {
   "cell_type": "code",
   "execution_count": 3,
   "metadata": {},
   "outputs": [],
   "source": [
    "model = get_model(config['model'])"
   ]
  },
  {
   "cell_type": "code",
   "execution_count": 9,
   "metadata": {},
   "outputs": [
    {
     "data": {
      "text/plain": [
       "===============================================================================================\n",
       "Layer (type:depth-idx)                        Output Shape              Param #\n",
       "===============================================================================================\n",
       "ResidualUNet3D                                [1, 3, 128, 128, 128]     --\n",
       "├─ModuleList: 1-1                             --                        --\n",
       "│    └─Encoder: 2-1                           [1, 64, 128, 128, 128]    223,170\n",
       "│    └─Encoder: 2-2                           [1, 128, 64, 64, 64]      1,106,560\n",
       "│    └─Encoder: 2-3                           [1, 256, 32, 32, 32]      4,424,960\n",
       "│    └─Encoder: 2-4                           [1, 512, 16, 16, 16]      17,697,280\n",
       "│    └─Encoder: 2-5                           [1, 1024, 8, 8, 8]        70,784,000\n",
       "├─ModuleList: 1-2                             --                        --\n",
       "│    └─Decoder: 2-6                           [1, 512, 16, 16, 16]      35,393,024\n",
       "│    └─Decoder: 2-7                           [1, 256, 32, 32, 32]      8,849,152\n",
       "│    └─Decoder: 2-8                           [1, 128, 64, 64, 64]      2,212,736\n",
       "│    └─Decoder: 2-9                           [1, 64, 128, 128, 128]    553,408\n",
       "├─Conv3d: 1-3                                 [1, 3, 128, 128, 128]     195\n",
       "├─Softmax: 1-4                                [1, 3, 128, 128, 128]     --\n",
       "===============================================================================================\n",
       "Total params: 141,244,485\n",
       "Trainable params: 141,244,485\n",
       "Non-trainable params: 0\n",
       "Total mult-adds (Units.TERABYTES): 3.19\n",
       "===============================================================================================\n",
       "Input size (MB): 8.39\n",
       "Forward/backward pass size (MB): 17379.10\n",
       "Params size (MB): 564.98\n",
       "Estimated Total Size (MB): 17952.47\n",
       "==============================================================================================="
      ]
     },
     "execution_count": 9,
     "metadata": {},
     "output_type": "execute_result"
    }
   ],
   "source": [
    "summary(model,input_size=(1,1,128,128,128), depth=2,device='cpu')"
   ]
  },
  {
   "cell_type": "code",
   "execution_count": 7,
   "metadata": {},
   "outputs": [
    {
     "data": {
      "text/plain": [
       "===============================================================================================\n",
       "Layer (type:depth-idx)                        Output Shape              Param #\n",
       "===============================================================================================\n",
       "ResidualUNet3D                                [1, 3, 16, 16, 16]        --\n",
       "├─ModuleList: 1-1                             --                        --\n",
       "│    └─Encoder: 2-1                           [1, 64, 16, 16, 16]       --\n",
       "│    │    └─ExtResNetBlock: 3-1               [1, 64, 16, 16, 16]       223,170\n",
       "│    └─Encoder: 2-2                           [1, 128, 8, 8, 8]         --\n",
       "│    │    └─MaxPool3d: 3-2                    [1, 64, 8, 8, 8]          --\n",
       "│    │    └─ExtResNetBlock: 3-3               [1, 128, 8, 8, 8]         1,106,560\n",
       "│    └─Encoder: 2-3                           [1, 256, 4, 4, 4]         --\n",
       "│    │    └─MaxPool3d: 3-4                    [1, 128, 4, 4, 4]         --\n",
       "│    │    └─ExtResNetBlock: 3-5               [1, 256, 4, 4, 4]         4,424,960\n",
       "│    └─Encoder: 2-4                           [1, 512, 2, 2, 2]         --\n",
       "│    │    └─MaxPool3d: 3-6                    [1, 256, 2, 2, 2]         --\n",
       "│    │    └─ExtResNetBlock: 3-7               [1, 512, 2, 2, 2]         17,697,280\n",
       "│    └─Encoder: 2-5                           [1, 1024, 1, 1, 1]        --\n",
       "│    │    └─MaxPool3d: 3-8                    [1, 512, 1, 1, 1]         --\n",
       "│    │    └─ExtResNetBlock: 3-9               [1, 1024, 1, 1, 1]        70,784,000\n",
       "├─ModuleList: 1-2                             --                        --\n",
       "│    └─Decoder: 2-6                           [1, 512, 2, 2, 2]         --\n",
       "│    │    └─TransposeConvUpsampling: 3-10     [1, 512, 2, 2, 2]         14,156,288\n",
       "│    │    └─ExtResNetBlock: 3-11              [1, 512, 2, 2, 2]         21,236,736\n",
       "│    └─Decoder: 2-7                           [1, 256, 4, 4, 4]         --\n",
       "│    │    └─TransposeConvUpsampling: 3-12     [1, 256, 4, 4, 4]         3,539,200\n",
       "│    │    └─ExtResNetBlock: 3-13              [1, 256, 4, 4, 4]         5,309,952\n",
       "│    └─Decoder: 2-8                           [1, 128, 8, 8, 8]         --\n",
       "│    │    └─TransposeConvUpsampling: 3-14     [1, 128, 8, 8, 8]         884,864\n",
       "│    │    └─ExtResNetBlock: 3-15              [1, 128, 8, 8, 8]         1,327,872\n",
       "│    └─Decoder: 2-9                           [1, 64, 16, 16, 16]       --\n",
       "│    │    └─TransposeConvUpsampling: 3-16     [1, 64, 16, 16, 16]       221,248\n",
       "│    │    └─ExtResNetBlock: 3-17              [1, 64, 16, 16, 16]       332,160\n",
       "├─Conv3d: 1-3                                 [1, 3, 16, 16, 16]        195\n",
       "├─Softmax: 1-4                                [1, 3, 16, 16, 16]        --\n",
       "===============================================================================================\n",
       "Total params: 141,244,485\n",
       "Trainable params: 141,244,485\n",
       "Non-trainable params: 0\n",
       "Total mult-adds (Units.GIGABYTES): 6.22\n",
       "===============================================================================================\n",
       "Input size (MB): 0.02\n",
       "Forward/backward pass size (MB): 33.94\n",
       "Params size (MB): 564.98\n",
       "Estimated Total Size (MB): 598.94\n",
       "==============================================================================================="
      ]
     },
     "execution_count": 7,
     "metadata": {},
     "output_type": "execute_result"
    }
   ],
   "source": [
    "summary(model, input_size=(1, 1, 16, 16, 16))"
   ]
  }
 ],
 "metadata": {
  "kernelspec": {
   "display_name": ".venv_3dseg",
   "language": "python",
   "name": "python3"
  },
  "language_info": {
   "codemirror_mode": {
    "name": "ipython",
    "version": 3
   },
   "file_extension": ".py",
   "mimetype": "text/x-python",
   "name": "python",
   "nbconvert_exporter": "python",
   "pygments_lexer": "ipython3",
   "version": "3.11.7"
  }
 },
 "nbformat": 4,
 "nbformat_minor": 2
}
