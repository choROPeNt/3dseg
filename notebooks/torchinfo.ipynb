{
 "cells": [
  {
   "cell_type": "code",
   "execution_count": 1,
   "metadata": {},
   "outputs": [],
   "source": [
    "from torchinfo import summary\n",
    "import os\n",
    "# if using Apple MPS, fall back to CPU for unsupported ops\n",
    "os.environ[\"PYTORCH_ENABLE_MPS_FALLBACK\"] = \"1\"\n",
    "from torch3dseg.utils import model\n",
    "\n",
    "import torch"
   ]
  },
  {
   "cell_type": "code",
   "execution_count": 6,
   "metadata": {},
   "outputs": [],
   "source": [
    "device = torch.device(\"mps\") if torch.backends.mps.is_available() else torch.device(\"cpu\")\n",
    "\n",
    "device = torch.device(\"cpu\")"
   ]
  },
  {
   "cell_type": "code",
   "execution_count": 7,
   "metadata": {},
   "outputs": [],
   "source": [
    "Unet = model.ResidualUNet3D(in_channels=1,out_channels=3).to(device)"
   ]
  },
  {
   "cell_type": "code",
   "execution_count": 9,
   "metadata": {},
   "outputs": [
    {
     "data": {
      "text/plain": [
       "===============================================================================================\n",
       "Layer (type:depth-idx)                        Output Shape              Param #\n",
       "===============================================================================================\n",
       "ResidualUNet3D                                [1, 3, 128, 128, 128]     --\n",
       "├─ModuleList: 1-1                             --                        --\n",
       "│    └─Encoder: 2-1                           [1, 64, 128, 128, 128]    --\n",
       "│    │    └─ExtResNetBlock: 3-1               [1, 64, 128, 128, 128]    223,170\n",
       "│    └─Encoder: 2-2                           [1, 128, 64, 64, 64]      --\n",
       "│    │    └─MaxPool3d: 3-2                    [1, 64, 64, 64, 64]       --\n",
       "│    │    └─ExtResNetBlock: 3-3               [1, 128, 64, 64, 64]      1,106,560\n",
       "│    └─Encoder: 2-3                           [1, 256, 32, 32, 32]      --\n",
       "│    │    └─MaxPool3d: 3-4                    [1, 128, 32, 32, 32]      --\n",
       "│    │    └─ExtResNetBlock: 3-5               [1, 256, 32, 32, 32]      4,424,960\n",
       "│    └─Encoder: 2-4                           [1, 512, 16, 16, 16]      --\n",
       "│    │    └─MaxPool3d: 3-6                    [1, 256, 16, 16, 16]      --\n",
       "│    │    └─ExtResNetBlock: 3-7               [1, 512, 16, 16, 16]      17,697,280\n",
       "│    └─Encoder: 2-5                           [1, 1024, 8, 8, 8]        --\n",
       "│    │    └─MaxPool3d: 3-8                    [1, 512, 8, 8, 8]         --\n",
       "│    │    └─ExtResNetBlock: 3-9               [1, 1024, 8, 8, 8]        70,784,000\n",
       "├─ModuleList: 1-2                             --                        --\n",
       "│    └─Decoder: 2-6                           [1, 512, 16, 16, 16]      --\n",
       "│    │    └─TransposeConvUpsampling: 3-10     [1, 512, 16, 16, 16]      14,156,288\n",
       "│    │    └─ExtResNetBlock: 3-11              [1, 512, 16, 16, 16]      21,236,736\n",
       "│    └─Decoder: 2-7                           [1, 256, 32, 32, 32]      --\n",
       "│    │    └─TransposeConvUpsampling: 3-12     [1, 256, 32, 32, 32]      3,539,200\n",
       "│    │    └─ExtResNetBlock: 3-13              [1, 256, 32, 32, 32]      5,309,952\n",
       "│    └─Decoder: 2-8                           [1, 128, 64, 64, 64]      --\n",
       "│    │    └─TransposeConvUpsampling: 3-14     [1, 128, 64, 64, 64]      884,864\n",
       "│    │    └─ExtResNetBlock: 3-15              [1, 128, 64, 64, 64]      1,327,872\n",
       "│    └─Decoder: 2-9                           [1, 64, 128, 128, 128]    --\n",
       "│    │    └─TransposeConvUpsampling: 3-16     [1, 64, 128, 128, 128]    221,248\n",
       "│    │    └─ExtResNetBlock: 3-17              [1, 64, 128, 128, 128]    332,160\n",
       "├─Conv3d: 1-3                                 [1, 3, 128, 128, 128]     195\n",
       "├─Sigmoid: 1-4                                [1, 3, 128, 128, 128]     --\n",
       "===============================================================================================\n",
       "Total params: 141,244,485\n",
       "Trainable params: 141,244,485\n",
       "Non-trainable params: 0\n",
       "Total mult-adds (Units.TERABYTES): 3.19\n",
       "===============================================================================================\n",
       "Input size (MB): 8.39\n",
       "Forward/backward pass size (MB): 17379.10\n",
       "Params size (MB): 564.98\n",
       "Estimated Total Size (MB): 17952.47\n",
       "==============================================================================================="
      ]
     },
     "execution_count": 9,
     "metadata": {},
     "output_type": "execute_result"
    }
   ],
   "source": [
    "summary(Unet,input_size=(1,1,128,128,128))"
   ]
  },
  {
   "cell_type": "code",
   "execution_count": 10,
   "metadata": {},
   "outputs": [],
   "source": [
    "y = Unet(torch.rand(1,1,32,32,32).to(device))"
   ]
  },
  {
   "cell_type": "markdown",
   "metadata": {},
   "source": []
  },
  {
   "cell_type": "code",
   "execution_count": 11,
   "metadata": {},
   "outputs": [
    {
     "data": {
      "text/plain": [
       "torch.Size([1, 3, 32, 32, 32])"
      ]
     },
     "execution_count": 11,
     "metadata": {},
     "output_type": "execute_result"
    }
   ],
   "source": [
    "y.shape"
   ]
  },
  {
   "cell_type": "code",
   "execution_count": null,
   "metadata": {},
   "outputs": [],
   "source": []
  }
 ],
 "metadata": {
  "kernelspec": {
   "display_name": ".venv_3dseg",
   "language": "python",
   "name": "python3"
  },
  "language_info": {
   "codemirror_mode": {
    "name": "ipython",
    "version": 3
   },
   "file_extension": ".py",
   "mimetype": "text/x-python",
   "name": "python",
   "nbconvert_exporter": "python",
   "pygments_lexer": "ipython3",
   "version": "3.11.7"
  }
 },
 "nbformat": 4,
 "nbformat_minor": 2
}
