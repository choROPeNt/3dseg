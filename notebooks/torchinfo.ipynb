{
 "cells": [
  {
   "cell_type": "code",
   "execution_count": 7,
   "metadata": {},
   "outputs": [],
   "source": [
    "from torchinfo import summary\n",
    "import os\n",
    "# if using Apple MPS, fall back to CPU for unsupported ops\n",
    "os.environ[\"PYTORCH_ENABLE_MPS_FALLBACK\"] = \"1\"\n",
    "from torch3dseg.utils.model import get_model\n",
    "import torch"
   ]
  },
  {
   "cell_type": "code",
   "execution_count": 11,
   "metadata": {},
   "outputs": [],
   "source": [
    "config = {\n",
    "    \"model\": {\n",
    "      \"name\": \"UNet3D\",\n",
    "      # number of input channels to the model\n",
    "      \"in_channels\": 1,\n",
    "      # number of output channels\n",
    "      \"out_channels\": 3,\n",
    "      # determines the order of operators in a single layer (crg - Conv3d+ReLU+GroupNorm)\n",
    "      \"layer_order\": \"gcr\",\n",
    "      # initial number of feature maps\n",
    "      \"f_maps\": 32, \n",
    "      # number of groups in the groupnorm\n",
    "      \"num_groups\": 8,\n",
    "      # number of levels in the encoder/decoder path (applied only if f_maps is an int)\n",
    "      \"num_levels\":4,\n",
    "      # down-pooling type for encoder branch: [\"max\", \"avg\", \"conv\"] \n",
    "      \"pool_type\":'conv',\n",
    "      # apply element-wise nn.Sigmoid after the final 1x1x1 convolution, otherwise apply nn.Softmax\n",
    "      \"final_sigmoid\": False,\n",
    "      # if True applies the final normalization layer (sigmoid or softmax), otherwise the networks returns the output from the final convolution layer; use False for regression problems, e.g. de-noising\n",
    "      \"is_segmentation\": True,\n",
    "    }\n",
    "  }\n"
   ]
  },
  {
   "cell_type": "code",
   "execution_count": 9,
   "metadata": {},
   "outputs": [],
   "source": [
    "model = get_model(config['model'])"
   ]
  },
  {
   "cell_type": "code",
   "execution_count": 10,
   "metadata": {},
   "outputs": [
    {
     "data": {
      "text/plain": [
       "===============================================================================================\n",
       "Layer (type:depth-idx)                        Output Shape              Param #\n",
       "===============================================================================================\n",
       "UNet3D                                        [1, 3, 128, 128, 128]     --\n",
       "├─ModuleList: 1-1                             --                        --\n",
       "│    └─Encoder: 2-1                           [1, 32, 128, 128, 128]    14,290\n",
       "│    └─Encoder: 2-2                           [1, 64, 64, 64, 64]       83,328\n",
       "│    └─Encoder: 2-3                           [1, 128, 32, 32, 32]      332,544\n",
       "│    └─Encoder: 2-4                           [1, 256, 16, 16, 16]      1,328,640\n",
       "├─ModuleList: 1-2                             --                        --\n",
       "│    └─Decoder: 2-5                           [1, 128, 32, 32, 32]      1,770,496\n",
       "│    └─Decoder: 2-6                           [1, 64, 64, 64, 64]       442,880\n",
       "│    └─Decoder: 2-7                           [1, 32, 128, 128, 128]    110,848\n",
       "├─Conv3d: 1-3                                 [1, 3, 128, 128, 128]     99\n",
       "├─Softmax: 1-4                                [1, 3, 128, 128, 128]     --\n",
       "===============================================================================================\n",
       "Total params: 4,083,125\n",
       "Trainable params: 4,083,125\n",
       "Non-trainable params: 0\n",
       "Total mult-adds (Units.GIGABYTES): 474.12\n",
       "===============================================================================================\n",
       "Input size (MB): 8.39\n",
       "Forward/backward pass size (MB): 5897.19\n",
       "Params size (MB): 16.33\n",
       "Estimated Total Size (MB): 5921.91\n",
       "==============================================================================================="
      ]
     },
     "execution_count": 10,
     "metadata": {},
     "output_type": "execute_result"
    }
   ],
   "source": [
    "summary(model,input_size=(1,1,128,128,128), depth=2,device='cpu')"
   ]
  },
  {
   "cell_type": "code",
   "execution_count": null,
   "metadata": {},
   "outputs": [],
   "source": []
  }
 ],
 "metadata": {
  "kernelspec": {
   "display_name": ".venv_3dseg",
   "language": "python",
   "name": "python3"
  },
  "language_info": {
   "codemirror_mode": {
    "name": "ipython",
    "version": 3
   },
   "file_extension": ".py",
   "mimetype": "text/x-python",
   "name": "python",
   "nbconvert_exporter": "python",
   "pygments_lexer": "ipython3",
   "version": "3.11.7"
  }
 },
 "nbformat": 4,
 "nbformat_minor": 2
}
