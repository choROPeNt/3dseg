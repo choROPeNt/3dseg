{
 "cells": [
  {
   "cell_type": "code",
   "execution_count": 5,
   "metadata": {},
   "outputs": [],
   "source": [
    "from torchinfo import summary\n",
    "import os\n",
    "# if using Apple MPS, fall back to CPU for unsupported ops\n",
    "os.environ[\"PYTORCH_ENABLE_MPS_FALLBACK\"] = \"1\"\n",
    "from torch3dseg.utils import model\n",
    "from torch3dseg.utils.model import get_model\n",
    "import torch"
   ]
  },
  {
   "cell_type": "code",
   "execution_count": 13,
   "metadata": {},
   "outputs": [],
   "source": [
    "config = {\n",
    "    \"model\": {\n",
    "      \"name\": \"UNet3D\",\n",
    "      # number of input channels to the model\n",
    "      \"in_channels\": 1,\n",
    "      # number of output channels\n",
    "      \"out_channels\": 3,\n",
    "      # determines the order of operators in a single layer (crg - Conv3d+ReLU+GroupNorm)\n",
    "      \"layer_order\": \"gcr\",\n",
    "      # initial number of feature maps\n",
    "      \"f_maps\": 64, \n",
    "      # number of groups in the groupnorm\n",
    "      \"num_groups\": 8,\n",
    "      # number of levels in the encoder/decoder path (applied only if f_maps is an int)\n",
    "      \"num_levels\":3,\n",
    "      \"pool_type\":'conv',\n",
    "      # apply element-wise nn.Sigmoid after the final 1x1x1 convolution, otherwise apply nn.Softmax\n",
    "      \"final_sigmoid\": False,\n",
    "      # if True applies the final normalization layer (sigmoid or softmax), otherwise the networks returns the output from the final convolution layer; use False for regression problems, e.g. de-noising\n",
    "      \"is_segmentation\": True,\n",
    "    }\n",
    "  }"
   ]
  },
  {
   "cell_type": "code",
   "execution_count": 14,
   "metadata": {},
   "outputs": [],
   "source": [
    "model = get_model(config['model'])"
   ]
  },
  {
   "cell_type": "code",
   "execution_count": 15,
   "metadata": {},
   "outputs": [
    {
     "data": {
      "text/plain": [
       "===============================================================================================\n",
       "Layer (type:depth-idx)                        Output Shape              Param #\n",
       "===============================================================================================\n",
       "UNet3D                                        [1, 3, 64, 64, 64]        --\n",
       "├─ModuleList: 1-1                             --                        --\n",
       "│    └─Encoder: 2-1                           [1, 64, 64, 64, 64]       --\n",
       "│    │    └─DoubleConv: 3-1                   [1, 64, 64, 64, 64]       --\n",
       "│    │    │    └─SingleConv: 4-1              [1, 32, 64, 64, 64]       --\n",
       "│    │    │    │    └─GroupNorm: 5-1          [1, 1, 64, 64, 64]        2\n",
       "│    │    │    │    └─Conv3d: 5-2             [1, 32, 64, 64, 64]       864\n",
       "│    │    │    │    └─ReLU: 5-3               [1, 32, 64, 64, 64]       --\n",
       "│    │    │    └─SingleConv: 4-2              [1, 64, 64, 64, 64]       --\n",
       "│    │    │    │    └─GroupNorm: 5-4          [1, 32, 64, 64, 64]       64\n",
       "│    │    │    │    └─Conv3d: 5-5             [1, 64, 64, 64, 64]       55,296\n",
       "│    │    │    │    └─ReLU: 5-6               [1, 64, 64, 64, 64]       --\n",
       "│    └─Encoder: 2-2                           [1, 128, 32, 32, 32]      --\n",
       "│    │    └─Conv3d: 3-2                       [1, 64, 32, 32, 32]       512\n",
       "│    │    └─DoubleConv: 3-3                   [1, 128, 32, 32, 32]      --\n",
       "│    │    │    └─SingleConv: 4-3              [1, 64, 32, 32, 32]       --\n",
       "│    │    │    │    └─GroupNorm: 5-7          [1, 64, 32, 32, 32]       128\n",
       "│    │    │    │    └─Conv3d: 5-8             [1, 64, 32, 32, 32]       110,592\n",
       "│    │    │    │    └─ReLU: 5-9               [1, 64, 32, 32, 32]       --\n",
       "│    │    │    └─SingleConv: 4-4              [1, 128, 32, 32, 32]      --\n",
       "│    │    │    │    └─GroupNorm: 5-10         [1, 64, 32, 32, 32]       128\n",
       "│    │    │    │    └─Conv3d: 5-11            [1, 128, 32, 32, 32]      221,184\n",
       "│    │    │    │    └─ReLU: 5-12              [1, 128, 32, 32, 32]      --\n",
       "│    └─Encoder: 2-3                           [1, 256, 16, 16, 16]      --\n",
       "│    │    └─Conv3d: 3-4                       [1, 128, 16, 16, 16]      1,024\n",
       "│    │    └─DoubleConv: 3-5                   [1, 256, 16, 16, 16]      --\n",
       "│    │    │    └─SingleConv: 4-5              [1, 128, 16, 16, 16]      --\n",
       "│    │    │    │    └─GroupNorm: 5-13         [1, 128, 16, 16, 16]      256\n",
       "│    │    │    │    └─Conv3d: 5-14            [1, 128, 16, 16, 16]      442,368\n",
       "│    │    │    │    └─ReLU: 5-15              [1, 128, 16, 16, 16]      --\n",
       "│    │    │    └─SingleConv: 4-6              [1, 256, 16, 16, 16]      --\n",
       "│    │    │    │    └─GroupNorm: 5-16         [1, 128, 16, 16, 16]      256\n",
       "│    │    │    │    └─Conv3d: 5-17            [1, 256, 16, 16, 16]      884,736\n",
       "│    │    │    │    └─ReLU: 5-18              [1, 256, 16, 16, 16]      --\n",
       "├─ModuleList: 1-2                             --                        --\n",
       "│    └─Decoder: 2-4                           [1, 128, 32, 32, 32]      --\n",
       "│    │    └─InterpolateUpsampling: 3-6        [1, 256, 32, 32, 32]      --\n",
       "│    │    └─DoubleConv: 3-7                   [1, 128, 32, 32, 32]      --\n",
       "│    │    │    └─SingleConv: 4-7              [1, 128, 32, 32, 32]      --\n",
       "│    │    │    │    └─GroupNorm: 5-19         [1, 384, 32, 32, 32]      768\n",
       "│    │    │    │    └─Conv3d: 5-20            [1, 128, 32, 32, 32]      1,327,104\n",
       "│    │    │    │    └─ReLU: 5-21              [1, 128, 32, 32, 32]      --\n",
       "│    │    │    └─SingleConv: 4-8              [1, 128, 32, 32, 32]      --\n",
       "│    │    │    │    └─GroupNorm: 5-22         [1, 128, 32, 32, 32]      256\n",
       "│    │    │    │    └─Conv3d: 5-23            [1, 128, 32, 32, 32]      442,368\n",
       "│    │    │    │    └─ReLU: 5-24              [1, 128, 32, 32, 32]      --\n",
       "│    └─Decoder: 2-5                           [1, 64, 64, 64, 64]       --\n",
       "│    │    └─InterpolateUpsampling: 3-8        [1, 128, 64, 64, 64]      --\n",
       "│    │    └─DoubleConv: 3-9                   [1, 64, 64, 64, 64]       --\n",
       "│    │    │    └─SingleConv: 4-9              [1, 64, 64, 64, 64]       --\n",
       "│    │    │    │    └─GroupNorm: 5-25         [1, 192, 64, 64, 64]      384\n",
       "│    │    │    │    └─Conv3d: 5-26            [1, 64, 64, 64, 64]       331,776\n",
       "│    │    │    │    └─ReLU: 5-27              [1, 64, 64, 64, 64]       --\n",
       "│    │    │    └─SingleConv: 4-10             [1, 64, 64, 64, 64]       --\n",
       "│    │    │    │    └─GroupNorm: 5-28         [1, 64, 64, 64, 64]       128\n",
       "│    │    │    │    └─Conv3d: 5-29            [1, 64, 64, 64, 64]       110,592\n",
       "│    │    │    │    └─ReLU: 5-30              [1, 64, 64, 64, 64]       --\n",
       "├─Conv3d: 1-3                                 [1, 3, 64, 64, 64]        195\n",
       "├─Softmax: 1-4                                [1, 3, 64, 64, 64]        --\n",
       "===============================================================================================\n",
       "Total params: 3,930,981\n",
       "Trainable params: 3,930,981\n",
       "Non-trainable params: 0\n",
       "Total mult-adds (Units.GIGABYTES): 205.05\n",
       "===============================================================================================\n",
       "Input size (MB): 1.05\n",
       "Forward/backward pass size (MB): 1409.29\n",
       "Params size (MB): 15.72\n",
       "Estimated Total Size (MB): 1426.06\n",
       "==============================================================================================="
      ]
     },
     "execution_count": 15,
     "metadata": {},
     "output_type": "execute_result"
    }
   ],
   "source": [
    "summary(model,input_size=(1,1,64,64,64), depth=5,device='cpu')"
   ]
  }
 ],
 "metadata": {
  "kernelspec": {
   "display_name": ".venv_3dseg",
   "language": "python",
   "name": "python3"
  },
  "language_info": {
   "codemirror_mode": {
    "name": "ipython",
    "version": 3
   },
   "file_extension": ".py",
   "mimetype": "text/x-python",
   "name": "python",
   "nbconvert_exporter": "python",
   "pygments_lexer": "ipython3",
   "version": "3.11.7"
  }
 },
 "nbformat": 4,
 "nbformat_minor": 2
}
