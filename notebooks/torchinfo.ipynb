{
 "cells": [
  {
   "cell_type": "code",
   "execution_count": 1,
   "metadata": {},
   "outputs": [],
   "source": [
    "from torchinfo import summary\n",
    "import os\n",
    "# if using Apple MPS, fall back to CPU for unsupported ops\n",
    "os.environ[\"PYTORCH_ENABLE_MPS_FALLBACK\"] = \"1\"\n",
    "from torch3dseg.utils import model\n",
    "from torch3dseg.utils.model import get_model\n",
    "import torch"
   ]
  },
  {
   "cell_type": "code",
   "execution_count": 2,
   "metadata": {},
   "outputs": [],
   "source": [
    "config = {\n",
    "    \"model\": {\n",
    "      \"name\": \"ResidualUNet3D\",\n",
    "      # number of input channels to the model\n",
    "      \"in_channels\": 1,\n",
    "      # number of output channels\n",
    "      \"out_channels\": 1,\n",
    "      # determines the order of operators in a single layer (crg - Conv3d+ReLU+GroupNorm)\n",
    "      \"layer_order\": \"gcr\",\n",
    "      # initial number of feature maps\n",
    "      \"f_maps\": 64, \n",
    "      # number of groups in the groupnorm\n",
    "      \"num_groups\": 8,\n",
    "      # apply element-wise nn.Sigmoid after the final 1x1x1 convolution, otherwise apply nn.Softmax\n",
    "      \"final_sigmoid\": True,\n",
    "      # if True applies the final normalization layer (sigmoid or softmax), otherwise the networks returns the output from the final convolution layer; use False for regression problems, e.g. de-noising\n",
    "      \"is_segmentation\": True,\n",
    "    }\n",
    "  }"
   ]
  },
  {
   "cell_type": "code",
   "execution_count": 3,
   "metadata": {},
   "outputs": [],
   "source": [
    "device = torch.device(\"mps\") if torch.backends.mps.is_available() else torch.device(\"cpu\")\n",
    "\n",
    "device = torch.device(\"cpu\")"
   ]
  },
  {
   "cell_type": "code",
   "execution_count": 4,
   "metadata": {},
   "outputs": [],
   "source": [
    "Unet = model.ResidualUNet3D(in_channels=1,out_channels=3).to(device)\n",
    "model = get_model(config['model'])"
   ]
  },
  {
   "cell_type": "code",
   "execution_count": 5,
   "metadata": {},
   "outputs": [
    {
     "data": {
      "text/plain": [
       "===============================================================================================\n",
       "Layer (type:depth-idx)                        Output Shape              Param #\n",
       "===============================================================================================\n",
       "ResidualUNet3D                                [1, 3, 128, 128, 128]     --\n",
       "├─ModuleList: 1-1                             --                        --\n",
       "│    └─Encoder: 2-1                           [1, 64, 128, 128, 128]    --\n",
       "│    │    └─ExtResNetBlock: 3-1               [1, 64, 128, 128, 128]    223,170\n",
       "│    └─Encoder: 2-2                           [1, 128, 64, 64, 64]      --\n",
       "│    │    └─MaxPool3d: 3-2                    [1, 64, 64, 64, 64]       --\n",
       "│    │    └─ExtResNetBlock: 3-3               [1, 128, 64, 64, 64]      1,106,560\n",
       "│    └─Encoder: 2-3                           [1, 256, 32, 32, 32]      --\n",
       "│    │    └─MaxPool3d: 3-4                    [1, 128, 32, 32, 32]      --\n",
       "│    │    └─ExtResNetBlock: 3-5               [1, 256, 32, 32, 32]      4,424,960\n",
       "│    └─Encoder: 2-4                           [1, 512, 16, 16, 16]      --\n",
       "│    │    └─MaxPool3d: 3-6                    [1, 256, 16, 16, 16]      --\n",
       "│    │    └─ExtResNetBlock: 3-7               [1, 512, 16, 16, 16]      17,697,280\n",
       "│    └─Encoder: 2-5                           [1, 1024, 8, 8, 8]        --\n",
       "│    │    └─MaxPool3d: 3-8                    [1, 512, 8, 8, 8]         --\n",
       "│    │    └─ExtResNetBlock: 3-9               [1, 1024, 8, 8, 8]        70,784,000\n",
       "├─ModuleList: 1-2                             --                        --\n",
       "│    └─Decoder: 2-6                           [1, 512, 16, 16, 16]      --\n",
       "│    │    └─TransposeConvUpsampling: 3-10     [1, 512, 16, 16, 16]      14,156,288\n",
       "│    │    └─ExtResNetBlock: 3-11              [1, 512, 16, 16, 16]      21,236,736\n",
       "│    └─Decoder: 2-7                           [1, 256, 32, 32, 32]      --\n",
       "│    │    └─TransposeConvUpsampling: 3-12     [1, 256, 32, 32, 32]      3,539,200\n",
       "│    │    └─ExtResNetBlock: 3-13              [1, 256, 32, 32, 32]      5,309,952\n",
       "│    └─Decoder: 2-8                           [1, 128, 64, 64, 64]      --\n",
       "│    │    └─TransposeConvUpsampling: 3-14     [1, 128, 64, 64, 64]      884,864\n",
       "│    │    └─ExtResNetBlock: 3-15              [1, 128, 64, 64, 64]      1,327,872\n",
       "│    └─Decoder: 2-9                           [1, 64, 128, 128, 128]    --\n",
       "│    │    └─TransposeConvUpsampling: 3-16     [1, 64, 128, 128, 128]    221,248\n",
       "│    │    └─ExtResNetBlock: 3-17              [1, 64, 128, 128, 128]    332,160\n",
       "├─Conv3d: 1-3                                 [1, 3, 128, 128, 128]     195\n",
       "├─Sigmoid: 1-4                                [1, 3, 128, 128, 128]     --\n",
       "===============================================================================================\n",
       "Total params: 141,244,485\n",
       "Trainable params: 141,244,485\n",
       "Non-trainable params: 0\n",
       "Total mult-adds (Units.TERABYTES): 3.19\n",
       "===============================================================================================\n",
       "Input size (MB): 8.39\n",
       "Forward/backward pass size (MB): 17379.10\n",
       "Params size (MB): 564.98\n",
       "Estimated Total Size (MB): 17952.47\n",
       "==============================================================================================="
      ]
     },
     "execution_count": 5,
     "metadata": {},
     "output_type": "execute_result"
    }
   ],
   "source": [
    "summary(Unet,input_size=(1,1,128,128,128))"
   ]
  },
  {
   "cell_type": "code",
   "execution_count": 6,
   "metadata": {},
   "outputs": [
    {
     "data": {
      "text/plain": [
       "===============================================================================================\n",
       "Layer (type:depth-idx)                        Output Shape              Param #\n",
       "===============================================================================================\n",
       "ResidualUNet3D                                [1, 1, 64, 64, 64]        --\n",
       "├─ModuleList: 1-1                             --                        --\n",
       "│    └─Encoder: 2-1                           [1, 64, 64, 64, 64]       --\n",
       "│    │    └─ExtResNetBlock: 3-1               [1, 64, 64, 64, 64]       223,170\n",
       "│    └─Encoder: 2-2                           [1, 128, 32, 32, 32]      --\n",
       "│    │    └─MaxPool3d: 3-2                    [1, 64, 32, 32, 32]       --\n",
       "│    │    └─ExtResNetBlock: 3-3               [1, 128, 32, 32, 32]      1,106,560\n",
       "│    └─Encoder: 2-3                           [1, 256, 16, 16, 16]      --\n",
       "│    │    └─MaxPool3d: 3-4                    [1, 128, 16, 16, 16]      --\n",
       "│    │    └─ExtResNetBlock: 3-5               [1, 256, 16, 16, 16]      4,424,960\n",
       "│    └─Encoder: 2-4                           [1, 512, 8, 8, 8]         --\n",
       "│    │    └─MaxPool3d: 3-6                    [1, 256, 8, 8, 8]         --\n",
       "│    │    └─ExtResNetBlock: 3-7               [1, 512, 8, 8, 8]         17,697,280\n",
       "│    └─Encoder: 2-5                           [1, 1024, 4, 4, 4]        --\n",
       "│    │    └─MaxPool3d: 3-8                    [1, 512, 4, 4, 4]         --\n",
       "│    │    └─ExtResNetBlock: 3-9               [1, 1024, 4, 4, 4]        70,784,000\n",
       "├─ModuleList: 1-2                             --                        --\n",
       "│    └─Decoder: 2-6                           [1, 512, 8, 8, 8]         --\n",
       "│    │    └─TransposeConvUpsampling: 3-10     [1, 512, 8, 8, 8]         14,156,288\n",
       "│    │    └─ExtResNetBlock: 3-11              [1, 512, 8, 8, 8]         21,236,736\n",
       "│    └─Decoder: 2-7                           [1, 256, 16, 16, 16]      --\n",
       "│    │    └─TransposeConvUpsampling: 3-12     [1, 256, 16, 16, 16]      3,539,200\n",
       "│    │    └─ExtResNetBlock: 3-13              [1, 256, 16, 16, 16]      5,309,952\n",
       "│    └─Decoder: 2-8                           [1, 128, 32, 32, 32]      --\n",
       "│    │    └─TransposeConvUpsampling: 3-14     [1, 128, 32, 32, 32]      884,864\n",
       "│    │    └─ExtResNetBlock: 3-15              [1, 128, 32, 32, 32]      1,327,872\n",
       "│    └─Decoder: 2-9                           [1, 64, 64, 64, 64]       --\n",
       "│    │    └─TransposeConvUpsampling: 3-16     [1, 64, 64, 64, 64]       221,248\n",
       "│    │    └─ExtResNetBlock: 3-17              [1, 64, 64, 64, 64]       332,160\n",
       "├─Conv3d: 1-3                                 [1, 1, 64, 64, 64]        65\n",
       "├─Sigmoid: 1-4                                [1, 1, 64, 64, 64]        --\n",
       "===============================================================================================\n",
       "Total params: 141,244,355\n",
       "Trainable params: 141,244,355\n",
       "Non-trainable params: 0\n",
       "Total mult-adds (Units.GIGABYTES): 398.21\n",
       "===============================================================================================\n",
       "Input size (MB): 1.05\n",
       "Forward/backward pass size (MB): 2168.19\n",
       "Params size (MB): 564.98\n",
       "Estimated Total Size (MB): 2734.22\n",
       "==============================================================================================="
      ]
     },
     "execution_count": 6,
     "metadata": {},
     "output_type": "execute_result"
    }
   ],
   "source": [
    "summary(model, input_size=(1, 1, 64, 64, 64))"
   ]
  }
 ],
 "metadata": {
  "kernelspec": {
   "display_name": ".venv_3dseg",
   "language": "python",
   "name": "python3"
  },
  "language_info": {
   "codemirror_mode": {
    "name": "ipython",
    "version": 3
   },
   "file_extension": ".py",
   "mimetype": "text/x-python",
   "name": "python",
   "nbconvert_exporter": "python",
   "pygments_lexer": "ipython3",
   "version": "3.11.7"
  }
 },
 "nbformat": 4,
 "nbformat_minor": 2
}
