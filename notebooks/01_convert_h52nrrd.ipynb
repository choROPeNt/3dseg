{
 "cells": [
  {
   "cell_type": "code",
   "execution_count": 1,
   "metadata": {},
   "outputs": [],
   "source": [
    "import os \n",
    "import numpy as np\n",
    "import h5py as h5\n",
    "import nrrd\n",
    "import fnmatch\n",
    "import matplotlib.pyplot as plt\n",
    "plt.rcParams['image.cmap'] = 'plasma'\n",
    "\n",
    "from skimage.measure import label\n",
    "from skimage.morphology import remove_small_objects\n",
    "from skimage.segmentation import relabel_sequential"
   ]
  },
  {
   "cell_type": "code",
   "execution_count": 2,
   "metadata": {},
   "outputs": [],
   "source": [
    "def readH5(file_path,**kwargs):\n",
    "    \"\"\"\n",
    "    generic function to read a h5 file with one \n",
    "    subgroup elements by given filepath in a Dictonary \n",
    "    \"\"\"\n",
    "\n",
    "    import h5py as h5\n",
    "    \n",
    "    out = {}\n",
    "\n",
    "    with h5.File(file_path, 'r') as f:\n",
    "\n",
    "        for key in f.keys():\n",
    "\n",
    "            if isinstance(f[key],h5.Group):\n",
    "                out[key] = {}\n",
    "                for sub_key in f[key]:\n",
    "                    out[key][sub_key] = f[key][sub_key][...]\n",
    "            else:\n",
    "                out[key] = f[key][:]\n",
    "        f.close()\n",
    "    return out"
   ]
  },
  {
   "cell_type": "code",
   "execution_count": 3,
   "metadata": {},
   "outputs": [],
   "source": [
    "file_path   = \"/Volumes/projects/pore-detection/Parallelprobe_Grauwerte/Parallelprobe_Grauwerte.seg.vol.train.pred.h5\"\n",
    "assert os.path.exists(file_path)"
   ]
  },
  {
   "cell_type": "code",
   "execution_count": 4,
   "metadata": {},
   "outputs": [
    {
     "name": "stdout",
     "output_type": "stream",
     "text": [
      "predictions (763, 211, 886) uint8\n"
     ]
    }
   ],
   "source": [
    "file   = readH5(file_path)\n",
    "for key, item in file.items():\n",
    "    if isinstance(item, dict):\n",
    "        print(key)\n",
    "        for subkey, subitems in item.items():\n",
    "            print(subkey,subitems.shape,subitems.dtype,subitems)\n",
    "    else:\n",
    "        print(key,item.shape,item.dtype)"
   ]
  },
  {
   "cell_type": "code",
   "execution_count": 5,
   "metadata": {},
   "outputs": [
    {
     "ename": "KeyError",
     "evalue": "'labels'",
     "output_type": "error",
     "traceback": [
      "\u001b[0;31m---------------------------------------------------------------------------\u001b[0m",
      "\u001b[0;31mKeyError\u001b[0m                                  Traceback (most recent call last)",
      "Cell \u001b[0;32mIn[5], line 3\u001b[0m\n\u001b[1;32m      1\u001b[0m key \u001b[38;5;241m=\u001b[39m \u001b[38;5;124m\"\u001b[39m\u001b[38;5;124mlabels\u001b[39m\u001b[38;5;124m\"\u001b[39m\n\u001b[0;32m----> 3\u001b[0m obj_ids \u001b[38;5;241m=\u001b[39m np\u001b[38;5;241m.\u001b[39munique(\u001b[43mfile\u001b[49m\u001b[43m[\u001b[49m\u001b[43mkey\u001b[49m\u001b[43m]\u001b[49m)\n\u001b[1;32m      4\u001b[0m \u001b[38;5;28mprint\u001b[39m(obj_ids)\n\u001b[1;32m      5\u001b[0m \u001b[38;5;28mprint\u001b[39m(\u001b[38;5;28mlen\u001b[39m(obj_ids))\n",
      "\u001b[0;31mKeyError\u001b[0m: 'labels'"
     ]
    }
   ],
   "source": [
    "key = \"labels\"\n",
    "\n",
    "obj_ids = np.unique(file[key])\n",
    "print(obj_ids)\n",
    "print(len(obj_ids))\n",
    "\n",
    "obj_ids = obj_ids[0:]\n",
    "file[\"masks\"] = file[key] == obj_ids[:, None, None, None]\n",
    "\n",
    "for key, item in file.items():\n",
    "    if isinstance(item, dict):\n",
    "        print(key,\":\")\n",
    "        for subkey, subitems in item.items():\n",
    "            print(\"\\t\",subkey,subitems.shape,subitems.dtype,subitems)\n",
    "    else:\n",
    "        print(key,item.shape,item.dtype)\n",
    "\n",
    "file[\"predictions\"] = 1 - file[key] ## channel mismatch 0 is pore and 1 is background wtf"
   ]
  },
  {
   "cell_type": "code",
   "execution_count": 6,
   "metadata": {},
   "outputs": [
    {
     "data": {
      "text/plain": [
       "<matplotlib.image.AxesImage at 0x128470910>"
      ]
     },
     "execution_count": 6,
     "metadata": {},
     "output_type": "execute_result"
    },
    {
     "data": {
      "image/png": "[encoded data removed]",
      "text/plain": [
       "<Figure size 640x480 with 1 Axes>"
      ]
     },
     "metadata": {},
     "output_type": "display_data"
    }
   ],
   "source": [
    "plt.imshow(1-file[\"predictions\"][:,:,0])"
   ]
  },
  {
   "cell_type": "code",
   "execution_count": 5,
   "metadata": {},
   "outputs": [
    {
     "name": "stdout",
     "output_type": "stream",
     "text": [
      "10225\n",
      "8176\n",
      "8176\n"
     ]
    }
   ],
   "source": [
    "key = \"predictions\"\n",
    "labeled_image = label(1-file[key][:],connectivity=2)\n",
    "\n",
    "print(len(np.unique(labeled_image)))\n",
    "\n",
    "cleaned_labeled_image = remove_small_objects(labeled_image, min_size=3)\n",
    "\n",
    "print(len(np.unique(cleaned_labeled_image)))\n",
    "\n",
    "file[\"instances\"] = cleaned_labeled_image\n",
    "\n",
    "# cleaned_labeled_image_relabeled, _ , _ = relabel_sequential(cleaned_labeled_image)\n",
    "\n",
    "# print(cleaned_labeled_image_relabeled.max())\n",
    "\n",
    "# file[\"instances\"] = cleaned_labeled_image_relabeled\n",
    "\n",
    "print(len(np.unique(file[\"instances\"])))"
   ]
  },
  {
   "cell_type": "code",
   "execution_count": 6,
   "metadata": {},
   "outputs": [
    {
     "name": "stdout",
     "output_type": "stream",
     "text": [
      "10224\n"
     ]
    }
   ],
   "source": [
    "print(file[\"instances\"].max())"
   ]
  },
  {
   "cell_type": "code",
   "execution_count": 28,
   "metadata": {},
   "outputs": [
    {
     "name": "stdout",
     "output_type": "stream",
     "text": [
      "[   0   92  137  209  290  321  378  389  395  504  564  761  764  936\n",
      " 1037 1119 1170 1256 1494 1898 2714 2856 3021 3599 3828 3860 4057 4140\n",
      " 4172 4212 4224 4237 4352 4363 4427 4466 4511 4557 4572 4622 4646 4689\n",
      " 5109 5368 5481 5532 6429 6432 6765 6939 7098 7220 7387 7496 7733 7777\n",
      " 7927 8010 8067]\n"
     ]
    },
    {
     "data": {
      "image/png": "[encoded data removed]",
      "text/plain": [
       "<Figure size 640x480 with 1 Axes>"
      ]
     },
     "metadata": {},
     "output_type": "display_data"
    }
   ],
   "source": [
    "\n",
    "plt.imshow(file[\"instances\"][:,:,10])\n",
    "print(np.unique(file[\"instances\"][:,:,10]))"
   ]
  },
  {
   "cell_type": "code",
   "execution_count": 7,
   "metadata": {},
   "outputs": [
    {
     "name": "stdout",
     "output_type": "stream",
     "text": [
      "predictions (763, 211, 886) uint8\n",
      "instances (763, 211, 886) int64\n"
     ]
    }
   ],
   "source": [
    "for key, item in file.items():\n",
    "    if isinstance(item, dict):\n",
    "        print(key)\n",
    "        for subkey, subitems in item.items():\n",
    "            print(subkey,subitems.shape,subitems.dtype,subitems)\n",
    "    else:\n",
    "        print(key,item.shape,item.dtype)"
   ]
  },
  {
   "cell_type": "code",
   "execution_count": 8,
   "metadata": {},
   "outputs": [
    {
     "ename": "KeyError",
     "evalue": "'labels'",
     "output_type": "error",
     "traceback": [
      "\u001b[0;31m---------------------------------------------------------------------------\u001b[0m",
      "\u001b[0;31mKeyError\u001b[0m                                  Traceback (most recent call last)",
      "Cell \u001b[0;32mIn[8], line 1\u001b[0m\n\u001b[0;32m----> 1\u001b[0m plt\u001b[38;5;241m.\u001b[39mimshow(\u001b[43mfile\u001b[49m\u001b[43m[\u001b[49m\u001b[38;5;124;43m\"\u001b[39;49m\u001b[38;5;124;43mlabels\u001b[39;49m\u001b[38;5;124;43m\"\u001b[39;49m\u001b[43m]\u001b[49m[\u001b[38;5;241m50\u001b[39m,::])\n\u001b[1;32m      2\u001b[0m \u001b[38;5;28mprint\u001b[39m(np\u001b[38;5;241m.\u001b[39munique(file[\u001b[38;5;124m\"\u001b[39m\u001b[38;5;124mlabels\u001b[39m\u001b[38;5;124m\"\u001b[39m]))\n\u001b[1;32m      3\u001b[0m \u001b[38;5;66;03m# file[\"predictions\"]=file[\"predictions\"]\u001b[39;00m\n",
      "\u001b[0;31mKeyError\u001b[0m: 'labels'"
     ]
    }
   ],
   "source": [
    "plt.imshow(file[\"labels\"][50,::])\n",
    "print(np.unique(file[\"labels\"]))\n",
    "# file[\"predictions\"]=file[\"predictions\"]\n",
    "print(np.unique(file[\"labels\"]))"
   ]
  },
  {
   "cell_type": "code",
   "execution_count": 9,
   "metadata": {},
   "outputs": [],
   "source": [
    "import matplotlib\n",
    "\n",
    "\n",
    "def create_slicer_segmentation_header(size, spacing, space_origin, labels=None):\n",
    "    \"\"\"\n",
    "    Create a NRRD header compatible with 3D Slicer for segmentations.\n",
    "    \"\"\"\n",
    "\n",
    "    # Create a plasma colormap using the modern interface\n",
    "    plasma_cmap = matplotlib.colormaps['plasma']  # Use matplotlib.colormaps\n",
    "    # Base header\n",
    "    header = {\n",
    "        'type': 'int',\n",
    "        'dimension': len(size),\n",
    "        'space dimension': len(size),\n",
    "        'sizes': size,\n",
    "        'space': 'left-posterior-superior',\n",
    "        'space origin': space_origin,\n",
    "        'endian': 'little',\n",
    "        'encoding': 'gzip',  # Optional compression\n",
    "        'space directions': [[s if i == j else 0 for j in range(len(size))] for i, s in enumerate(spacing)],\n",
    "        'kinds': ['domain'] * len(size),\n",
    "    }\n",
    "\n",
    "    # Add metadata for each segment\n",
    "    if labels is not None:\n",
    "        if not isinstance(labels, dict):\n",
    "            raise ValueError(\"Labels must be a dictionary with integer keys and string values.\")\n",
    "        \n",
    "        for segment_index, (label_value, segment_name) in enumerate(labels.items(), start=0):\n",
    "            rgba = plasma_cmap(segment_index / len(labels))  # Normalize index\n",
    "            rgb = [round(rgba[0], 4), round(rgba[1], 4), round(rgba[2], 4)] \n",
    "\n",
    "            header[f'Segment{segment_index}_ID'] = f\"Segement_{segment_index}\"  # Example color\n",
    "            header[f'Segment{segment_index}_LabelValue'] = label_value\n",
    "            header[f'Segment{segment_index}_Layer'] = 0\n",
    "            header[f'Segment{segment_index}_Name'] = segment_name\n",
    "            header[f'Segment{segment_index}_NameAutoGenerated'] = 0\n",
    "            # header[f'Segment{segment_index}_Color'] = rgb  # Example color\n",
    "            # header[f'Segment{segment_index}_ColorAutoGenerated'] = 0\n",
    "\n",
    "            header[f'Segment{segment_index}_Tags'] = ''  # Optional tags\n",
    "\n",
    "\n",
    "    header['Segmentation_ContainedRepresentationNames'] = 'Binary labelmap|'\n",
    "    header['Segmentation_ReferenceImageExtentOffset'] = [0, 0, 0]\n",
    "    header['Segmentation_MasterRepresentation'] = 'Binary labelmap'\n",
    "\n",
    "\n",
    "    return header"
   ]
  },
  {
   "cell_type": "code",
   "execution_count": 10,
   "metadata": {},
   "outputs": [],
   "source": [
    "def numpy_dtype_to_nrrd_dtype(dtype):\n",
    "    \"\"\"\n",
    "    Convert NumPy dtype to NRRD dtype string.\n",
    "\n",
    "    Parameters:\n",
    "    - dtype: NumPy dtype object\n",
    "\n",
    "    Returns:\n",
    "    - NRRD dtype string\n",
    "    \"\"\"\n",
    "    dtype_mapping = {\n",
    "        np.uint8: 'uint8',\n",
    "        np.uint16: 'uint16',\n",
    "        np.uint32: 'uint32',\n",
    "        np.uint64: 'uint64',\n",
    "        np.int8: 'int8',\n",
    "        np.int16: 'int16',\n",
    "        np.int32: 'int32',\n",
    "        np.int64: 'int64',\n",
    "        np.float16: 'float16',\n",
    "        np.float32: 'float32',\n",
    "        np.float64: 'float64',\n",
    "    }\n",
    "\n",
    "    return dtype_mapping.get(dtype, 'unknown')"
   ]
  },
  {
   "cell_type": "code",
   "execution_count": 11,
   "metadata": {},
   "outputs": [
    {
     "name": "stdout",
     "output_type": "stream",
     "text": [
      "10224\n",
      "8176\n",
      "Processing batch 0: Parallelprobe_Grauwerte_00.pred.instances.nrrd\n",
      "Saved: Parallelprobe_Grauwerte_00.pred.instances.nrrd\n",
      "Processing batch 1: Parallelprobe_Grauwerte_01.pred.instances.nrrd\n",
      "Saved: Parallelprobe_Grauwerte_01.pred.instances.nrrd\n",
      "Processing batch 2: Parallelprobe_Grauwerte_02.pred.instances.nrrd\n",
      "Saved: Parallelprobe_Grauwerte_02.pred.instances.nrrd\n",
      "Processing batch 3: Parallelprobe_Grauwerte_03.pred.instances.nrrd\n",
      "Saved: Parallelprobe_Grauwerte_03.pred.instances.nrrd\n",
      "Processing batch 4: Parallelprobe_Grauwerte_04.pred.instances.nrrd\n",
      "Saved: Parallelprobe_Grauwerte_04.pred.instances.nrrd\n",
      "Processing batch 5: Parallelprobe_Grauwerte_05.pred.instances.nrrd\n",
      "Saved: Parallelprobe_Grauwerte_05.pred.instances.nrrd\n",
      "Processing batch 6: Parallelprobe_Grauwerte_06.pred.instances.nrrd\n",
      "Saved: Parallelprobe_Grauwerte_06.pred.instances.nrrd\n",
      "Processing batch 7: Parallelprobe_Grauwerte_07.pred.instances.nrrd\n",
      "Saved: Parallelprobe_Grauwerte_07.pred.instances.nrrd\n",
      "Processing batch 8: Parallelprobe_Grauwerte_08.pred.instances.nrrd\n",
      "Saved: Parallelprobe_Grauwerte_08.pred.instances.nrrd\n",
      "Processing batch 9: Parallelprobe_Grauwerte_09.pred.instances.nrrd\n",
      "Saved: Parallelprobe_Grauwerte_09.pred.instances.nrrd\n",
      "Processing batch 10: Parallelprobe_Grauwerte_10.pred.instances.nrrd\n",
      "Saved: Parallelprobe_Grauwerte_10.pred.instances.nrrd\n",
      "Processing batch 11: Parallelprobe_Grauwerte_11.pred.instances.nrrd\n",
      "Saved: Parallelprobe_Grauwerte_11.pred.instances.nrrd\n",
      "Processing batch 12: Parallelprobe_Grauwerte_12.pred.instances.nrrd\n",
      "Saved: Parallelprobe_Grauwerte_12.pred.instances.nrrd\n",
      "Processing batch 13: Parallelprobe_Grauwerte_13.pred.instances.nrrd\n",
      "Saved: Parallelprobe_Grauwerte_13.pred.instances.nrrd\n",
      "Processing batch 14: Parallelprobe_Grauwerte_14.pred.instances.nrrd\n",
      "Saved: Parallelprobe_Grauwerte_14.pred.instances.nrrd\n",
      "Processing batch 15: Parallelprobe_Grauwerte_15.pred.instances.nrrd\n",
      "Saved: Parallelprobe_Grauwerte_15.pred.instances.nrrd\n",
      "Processing batch 16: Parallelprobe_Grauwerte_16.pred.instances.nrrd\n",
      "Saved: Parallelprobe_Grauwerte_16.pred.instances.nrrd\n",
      "Processing batch 17: Parallelprobe_Grauwerte_17.pred.instances.nrrd\n",
      "Saved: Parallelprobe_Grauwerte_17.pred.instances.nrrd\n",
      "Processing batch 18: Parallelprobe_Grauwerte_18.pred.instances.nrrd\n",
      "Saved: Parallelprobe_Grauwerte_18.pred.instances.nrrd\n",
      "Processing batch 19: Parallelprobe_Grauwerte_19.pred.instances.nrrd\n",
      "Saved: Parallelprobe_Grauwerte_19.pred.instances.nrrd\n",
      "Processing batch 20: Parallelprobe_Grauwerte_20.pred.instances.nrrd\n",
      "Saved: Parallelprobe_Grauwerte_20.pred.instances.nrrd\n",
      "Processing batch 21: Parallelprobe_Grauwerte_21.pred.instances.nrrd\n",
      "Saved: Parallelprobe_Grauwerte_21.pred.instances.nrrd\n",
      "Processing batch 22: Parallelprobe_Grauwerte_22.pred.instances.nrrd\n",
      "Saved: Parallelprobe_Grauwerte_22.pred.instances.nrrd\n",
      "Processing batch 23: Parallelprobe_Grauwerte_23.pred.instances.nrrd\n",
      "Saved: Parallelprobe_Grauwerte_23.pred.instances.nrrd\n",
      "Processing batch 24: Parallelprobe_Grauwerte_24.pred.instances.nrrd\n",
      "Saved: Parallelprobe_Grauwerte_24.pred.instances.nrrd\n",
      "Processing batch 25: Parallelprobe_Grauwerte_25.pred.instances.nrrd\n",
      "Saved: Parallelprobe_Grauwerte_25.pred.instances.nrrd\n",
      "Processing batch 26: Parallelprobe_Grauwerte_26.pred.instances.nrrd\n",
      "Saved: Parallelprobe_Grauwerte_26.pred.instances.nrrd\n",
      "Processing batch 27: Parallelprobe_Grauwerte_27.pred.instances.nrrd\n",
      "Saved: Parallelprobe_Grauwerte_27.pred.instances.nrrd\n",
      "Processing batch 28: Parallelprobe_Grauwerte_28.pred.instances.nrrd\n",
      "Saved: Parallelprobe_Grauwerte_28.pred.instances.nrrd\n",
      "Processing batch 29: Parallelprobe_Grauwerte_29.pred.instances.nrrd\n",
      "Saved: Parallelprobe_Grauwerte_29.pred.instances.nrrd\n",
      "Processing batch 30: Parallelprobe_Grauwerte_30.pred.instances.nrrd\n",
      "Saved: Parallelprobe_Grauwerte_30.pred.instances.nrrd\n",
      "Processing batch 31: Parallelprobe_Grauwerte_31.pred.instances.nrrd\n",
      "Saved: Parallelprobe_Grauwerte_31.pred.instances.nrrd\n",
      "Processing batch 32: Parallelprobe_Grauwerte_32.pred.instances.nrrd\n",
      "Saved: Parallelprobe_Grauwerte_32.pred.instances.nrrd\n",
      "Processing batch 33: Parallelprobe_Grauwerte_33.pred.instances.nrrd\n",
      "Saved: Parallelprobe_Grauwerte_33.pred.instances.nrrd\n",
      "Processing batch 34: Parallelprobe_Grauwerte_34.pred.instances.nrrd\n",
      "Saved: Parallelprobe_Grauwerte_34.pred.instances.nrrd\n",
      "Processing batch 35: Parallelprobe_Grauwerte_35.pred.instances.nrrd\n",
      "Saved: Parallelprobe_Grauwerte_35.pred.instances.nrrd\n",
      "Processing batch 36: Parallelprobe_Grauwerte_36.pred.instances.nrrd\n",
      "Saved: Parallelprobe_Grauwerte_36.pred.instances.nrrd\n",
      "Processing batch 37: Parallelprobe_Grauwerte_37.pred.instances.nrrd\n",
      "Saved: Parallelprobe_Grauwerte_37.pred.instances.nrrd\n",
      "Processing batch 38: Parallelprobe_Grauwerte_38.pred.instances.nrrd\n",
      "Saved: Parallelprobe_Grauwerte_38.pred.instances.nrrd\n",
      "Processing batch 39: Parallelprobe_Grauwerte_39.pred.instances.nrrd\n",
      "Saved: Parallelprobe_Grauwerte_39.pred.instances.nrrd\n",
      "Processing batch 40: Parallelprobe_Grauwerte_40.pred.instances.nrrd\n",
      "Saved: Parallelprobe_Grauwerte_40.pred.instances.nrrd\n",
      "Processing batch 41: Parallelprobe_Grauwerte_41.pred.instances.nrrd\n",
      "Saved: Parallelprobe_Grauwerte_41.pred.instances.nrrd\n",
      "Processing batch 42: Parallelprobe_Grauwerte_42.pred.instances.nrrd\n",
      "Saved: Parallelprobe_Grauwerte_42.pred.instances.nrrd\n",
      "Processing batch 43: Parallelprobe_Grauwerte_43.pred.instances.nrrd\n",
      "Saved: Parallelprobe_Grauwerte_43.pred.instances.nrrd\n",
      "Processing batch 44: Parallelprobe_Grauwerte_44.pred.instances.nrrd\n",
      "Saved: Parallelprobe_Grauwerte_44.pred.instances.nrrd\n",
      "Processing batch 45: Parallelprobe_Grauwerte_45.pred.instances.nrrd\n",
      "Saved: Parallelprobe_Grauwerte_45.pred.instances.nrrd\n",
      "Processing batch 46: Parallelprobe_Grauwerte_46.pred.instances.nrrd\n",
      "Saved: Parallelprobe_Grauwerte_46.pred.instances.nrrd\n",
      "Processing batch 47: Parallelprobe_Grauwerte_47.pred.instances.nrrd\n",
      "Saved: Parallelprobe_Grauwerte_47.pred.instances.nrrd\n",
      "Processing batch 48: Parallelprobe_Grauwerte_48.pred.instances.nrrd\n",
      "Saved: Parallelprobe_Grauwerte_48.pred.instances.nrrd\n",
      "Processing batch 49: Parallelprobe_Grauwerte_49.pred.instances.nrrd\n",
      "Saved: Parallelprobe_Grauwerte_49.pred.instances.nrrd\n",
      "Processing batch 50: Parallelprobe_Grauwerte_50.pred.instances.nrrd\n",
      "Saved: Parallelprobe_Grauwerte_50.pred.instances.nrrd\n",
      "Processing batch 51: Parallelprobe_Grauwerte_51.pred.instances.nrrd\n",
      "Saved: Parallelprobe_Grauwerte_51.pred.instances.nrrd\n",
      "Processing batch 52: Parallelprobe_Grauwerte_52.pred.instances.nrrd\n",
      "Saved: Parallelprobe_Grauwerte_52.pred.instances.nrrd\n",
      "Processing batch 53: Parallelprobe_Grauwerte_53.pred.instances.nrrd\n",
      "Saved: Parallelprobe_Grauwerte_53.pred.instances.nrrd\n",
      "Processing batch 54: Parallelprobe_Grauwerte_54.pred.instances.nrrd\n",
      "Saved: Parallelprobe_Grauwerte_54.pred.instances.nrrd\n",
      "Processing batch 55: Parallelprobe_Grauwerte_55.pred.instances.nrrd\n",
      "Saved: Parallelprobe_Grauwerte_55.pred.instances.nrrd\n",
      "Processing batch 56: Parallelprobe_Grauwerte_56.pred.instances.nrrd\n",
      "Saved: Parallelprobe_Grauwerte_56.pred.instances.nrrd\n",
      "Processing batch 57: Parallelprobe_Grauwerte_57.pred.instances.nrrd\n",
      "Saved: Parallelprobe_Grauwerte_57.pred.instances.nrrd\n",
      "Processing batch 58: Parallelprobe_Grauwerte_58.pred.instances.nrrd\n",
      "Saved: Parallelprobe_Grauwerte_58.pred.instances.nrrd\n",
      "Processing batch 59: Parallelprobe_Grauwerte_59.pred.instances.nrrd\n",
      "Saved: Parallelprobe_Grauwerte_59.pred.instances.nrrd\n",
      "Processing batch 60: Parallelprobe_Grauwerte_60.pred.instances.nrrd\n",
      "Saved: Parallelprobe_Grauwerte_60.pred.instances.nrrd\n",
      "Processing batch 61: Parallelprobe_Grauwerte_61.pred.instances.nrrd\n",
      "Saved: Parallelprobe_Grauwerte_61.pred.instances.nrrd\n",
      "Processing batch 62: Parallelprobe_Grauwerte_62.pred.instances.nrrd\n",
      "Saved: Parallelprobe_Grauwerte_62.pred.instances.nrrd\n",
      "Processing batch 63: Parallelprobe_Grauwerte_63.pred.instances.nrrd\n",
      "Saved: Parallelprobe_Grauwerte_63.pred.instances.nrrd\n",
      "Processing batch 64: Parallelprobe_Grauwerte_64.pred.instances.nrrd\n",
      "Saved: Parallelprobe_Grauwerte_64.pred.instances.nrrd\n",
      "Processing batch 65: Parallelprobe_Grauwerte_65.pred.instances.nrrd\n",
      "Saved: Parallelprobe_Grauwerte_65.pred.instances.nrrd\n",
      "Processing batch 66: Parallelprobe_Grauwerte_66.pred.instances.nrrd\n",
      "Saved: Parallelprobe_Grauwerte_66.pred.instances.nrrd\n",
      "Processing batch 67: Parallelprobe_Grauwerte_67.pred.instances.nrrd\n",
      "Saved: Parallelprobe_Grauwerte_67.pred.instances.nrrd\n",
      "Processing batch 68: Parallelprobe_Grauwerte_68.pred.instances.nrrd\n",
      "Saved: Parallelprobe_Grauwerte_68.pred.instances.nrrd\n",
      "Processing batch 69: Parallelprobe_Grauwerte_69.pred.instances.nrrd\n",
      "Saved: Parallelprobe_Grauwerte_69.pred.instances.nrrd\n",
      "Processing batch 70: Parallelprobe_Grauwerte_70.pred.instances.nrrd\n",
      "Saved: Parallelprobe_Grauwerte_70.pred.instances.nrrd\n",
      "Processing batch 71: Parallelprobe_Grauwerte_71.pred.instances.nrrd\n",
      "Saved: Parallelprobe_Grauwerte_71.pred.instances.nrrd\n",
      "Processing batch 72: Parallelprobe_Grauwerte_72.pred.instances.nrrd\n",
      "Saved: Parallelprobe_Grauwerte_72.pred.instances.nrrd\n",
      "Processing batch 73: Parallelprobe_Grauwerte_73.pred.instances.nrrd\n",
      "Saved: Parallelprobe_Grauwerte_73.pred.instances.nrrd\n",
      "Processing batch 74: Parallelprobe_Grauwerte_74.pred.instances.nrrd\n",
      "Saved: Parallelprobe_Grauwerte_74.pred.instances.nrrd\n",
      "Processing batch 75: Parallelprobe_Grauwerte_75.pred.instances.nrrd\n",
      "Saved: Parallelprobe_Grauwerte_75.pred.instances.nrrd\n",
      "Processing batch 76: Parallelprobe_Grauwerte_76.pred.instances.nrrd\n",
      "Saved: Parallelprobe_Grauwerte_76.pred.instances.nrrd\n",
      "Processing batch 77: Parallelprobe_Grauwerte_77.pred.instances.nrrd\n",
      "Saved: Parallelprobe_Grauwerte_77.pred.instances.nrrd\n",
      "Processing batch 78: Parallelprobe_Grauwerte_78.pred.instances.nrrd\n",
      "Saved: Parallelprobe_Grauwerte_78.pred.instances.nrrd\n",
      "Processing batch 79: Parallelprobe_Grauwerte_79.pred.instances.nrrd\n",
      "Saved: Parallelprobe_Grauwerte_79.pred.instances.nrrd\n",
      "Processing batch 80: Parallelprobe_Grauwerte_80.pred.instances.nrrd\n",
      "Saved: Parallelprobe_Grauwerte_80.pred.instances.nrrd\n",
      "Processing batch 81: Parallelprobe_Grauwerte_81.pred.instances.nrrd\n",
      "Saved: Parallelprobe_Grauwerte_81.pred.instances.nrrd\n",
      "Processing batch 82: Parallelprobe_Grauwerte_82.pred.instances.nrrd\n",
      "Saved: Parallelprobe_Grauwerte_82.pred.instances.nrrd\n",
      "Processing batch 83: Parallelprobe_Grauwerte_83.pred.instances.nrrd\n",
      "Saved: Parallelprobe_Grauwerte_83.pred.instances.nrrd\n",
      "Processing batch 84: Parallelprobe_Grauwerte_84.pred.instances.nrrd\n",
      "Saved: Parallelprobe_Grauwerte_84.pred.instances.nrrd\n",
      "Processing batch 85: Parallelprobe_Grauwerte_85.pred.instances.nrrd\n",
      "Saved: Parallelprobe_Grauwerte_85.pred.instances.nrrd\n",
      "Processing batch 86: Parallelprobe_Grauwerte_86.pred.instances.nrrd\n",
      "Saved: Parallelprobe_Grauwerte_86.pred.instances.nrrd\n",
      "Processing batch 87: Parallelprobe_Grauwerte_87.pred.instances.nrrd\n",
      "Saved: Parallelprobe_Grauwerte_87.pred.instances.nrrd\n",
      "Processing batch 88: Parallelprobe_Grauwerte_88.pred.instances.nrrd\n",
      "Saved: Parallelprobe_Grauwerte_88.pred.instances.nrrd\n",
      "Processing batch 89: Parallelprobe_Grauwerte_89.pred.instances.nrrd\n",
      "Saved: Parallelprobe_Grauwerte_89.pred.instances.nrrd\n",
      "Processing batch 90: Parallelprobe_Grauwerte_90.pred.instances.nrrd\n",
      "Saved: Parallelprobe_Grauwerte_90.pred.instances.nrrd\n",
      "Processing batch 91: Parallelprobe_Grauwerte_91.pred.instances.nrrd\n",
      "Saved: Parallelprobe_Grauwerte_91.pred.instances.nrrd\n",
      "Processing batch 92: Parallelprobe_Grauwerte_92.pred.instances.nrrd\n",
      "Saved: Parallelprobe_Grauwerte_92.pred.instances.nrrd\n",
      "Processing batch 93: Parallelprobe_Grauwerte_93.pred.instances.nrrd\n",
      "Saved: Parallelprobe_Grauwerte_93.pred.instances.nrrd\n",
      "Processing batch 94: Parallelprobe_Grauwerte_94.pred.instances.nrrd\n",
      "Saved: Parallelprobe_Grauwerte_94.pred.instances.nrrd\n",
      "Processing batch 95: Parallelprobe_Grauwerte_95.pred.instances.nrrd\n",
      "Saved: Parallelprobe_Grauwerte_95.pred.instances.nrrd\n",
      "Processing batch 96: Parallelprobe_Grauwerte_96.pred.instances.nrrd\n",
      "Saved: Parallelprobe_Grauwerte_96.pred.instances.nrrd\n",
      "Processing batch 97: Parallelprobe_Grauwerte_97.pred.instances.nrrd\n",
      "Saved: Parallelprobe_Grauwerte_97.pred.instances.nrrd\n",
      "Processing batch 98: Parallelprobe_Grauwerte_98.pred.instances.nrrd\n",
      "Saved: Parallelprobe_Grauwerte_98.pred.instances.nrrd\n",
      "Processing batch 99: Parallelprobe_Grauwerte_99.pred.instances.nrrd\n",
      "Saved: Parallelprobe_Grauwerte_99.pred.instances.nrrd\n",
      "Processing batch 100: Parallelprobe_Grauwerte_100.pred.instances.nrrd\n",
      "Saved: Parallelprobe_Grauwerte_100.pred.instances.nrrd\n",
      "Processing batch 101: Parallelprobe_Grauwerte_101.pred.instances.nrrd\n",
      "Saved: Parallelprobe_Grauwerte_101.pred.instances.nrrd\n",
      "Processing batch 102: Parallelprobe_Grauwerte_102.pred.instances.nrrd\n",
      "Saved: Parallelprobe_Grauwerte_102.pred.instances.nrrd\n"
     ]
    }
   ],
   "source": [
    "out_key_list = [\"predictions\"]\n",
    "batch_size = 100\n",
    "\n",
    "for key in out_key_list:\n",
    "\n",
    "    # Determine file ending based on key\n",
    "    if key == \"raw\":\n",
    "        fileending = \".vol.nrrd\"\n",
    "    elif key == \"labels\":\n",
    "        fileending = \".gtruth.instances.nrrd\"\n",
    "    elif key == \"predictions\":\n",
    "        fileending = \".pred.instances.nrrd\"\n",
    "\n",
    "    instances = file[\"instances\"]\n",
    "    total_instances = instances.max()\n",
    "    print(total_instances)\n",
    "    print(len(np.unique(file[\"instances\"])))\n",
    "    batches = range(1, total_instances + 1, batch_size)\n",
    "\n",
    "    for i, start_label in enumerate(batches):\n",
    "        end_label = min(start_label + batch_size - 1, total_instances)\n",
    "\n",
    "        fileout = os.path.basename(file_path).split('.')[0] + f\"_{i:02d}\" + fileending\n",
    "        print(f\"Processing batch {i}: {fileout}\")\n",
    "\n",
    "        # Create labels\n",
    "        \n",
    "        labels = {instance: f'pore_{instance:03d}' for instance in range(start_label, end_label + 1)}\n",
    "\n",
    "        # Create a batch mask\n",
    "        batch_mask = np.where((instances >= start_label) & (instances <= end_label), \n",
    "                              instances, \n",
    "                              0).astype(np.int32)\n",
    "\n",
    "        # Metadata\n",
    "        size = batch_mask.shape\n",
    "        spacing = (1, 1, 1)\n",
    "        space_origin = (0, 0, 0)\n",
    "\n",
    "        # Generate header\n",
    "        header = create_slicer_segmentation_header(size, spacing, space_origin, labels)\n",
    "\n",
    "        # Save to NRRD\n",
    "        nrrd.write(fileout, batch_mask, header=header)\n",
    "        print(f\"Saved: {fileout}\")\n",
    "\n",
    "        # Break after one batch for testing\n",
    "        # if i >= 1:\n",
    "        #     break"
   ]
  },
  {
   "cell_type": "code",
   "execution_count": null,
   "metadata": {},
   "outputs": [],
   "source": [
    "# Load the NRRD file\n",
    "\n",
    "data, header = nrrd.read('Pinprobe_komplett_00.pred.instances.nrrd')\n",
    "\n",
    "# Print the header\n",
    "print(\"Header:\")\n",
    "for key, value in header.items():\n",
    "    print(f\"{key}: {value}\")\n",
    "\n",
    "# Access the data if needed\n",
    "print(\"\\nData Shape:\", data.shape)"
   ]
  },
  {
   "cell_type": "code",
   "execution_count": null,
   "metadata": {},
   "outputs": [],
   "source": [
    "n = len(data.keys())\n",
    "fig, axs = plt.subplots(1,n,figsize=(n*3.5,3.5))\n",
    "\n",
    "axs = np.array(axs).flatten()\n",
    "for ax in axs: ax.axis(\"off\")\n",
    "\n",
    "slice = 30\n",
    "\n",
    "# axs[0].imshow(data[\"raw\"][:,:,slice],cmap=\"grey\")\n",
    "axs[0].imshow(data[\"labels\"][:,:,slice])"
   ]
  },
  {
   "cell_type": "code",
   "execution_count": null,
   "metadata": {},
   "outputs": [],
   "source": [
    "obj_ids = np.unique(data[\"labels\"])\n",
    "\n",
    "print(len(obj_ids))\n",
    "\n",
    "obj_ids = obj_ids[0:]\n",
    "data[\"masks\"] = data[\"labels\"] == obj_ids[:, None, None, None]\n",
    "\n",
    "for key, item in data.items():\n",
    "    if isinstance(item, dict):\n",
    "        print(key,\":\")\n",
    "        for subkey, subitems in item.items():\n",
    "            print(\"\\t\",subkey,subitems.shape,subitems.dtype,subitems)\n",
    "    else:\n",
    "        print(key,item.shape,item.dtype)\n"
   ]
  },
  {
   "cell_type": "code",
   "execution_count": null,
   "metadata": {},
   "outputs": [],
   "source": [
    "labels = np.zeros((2,*data[\"labels\"].shape))\n",
    "\n",
    "for cls in range(1,data[\"masks\"].shape[0]):\n",
    "    labels[cls-1] = label(data[\"masks\"][cls,::],connectivity=2)\n",
    "\n",
    "    plt.imshow(labels[cls-1,:,:,slice])\n",
    "    plt.show()\n",
    "\n",
    "data[\"labels\"] = labels.astype(np.int16)\n",
    "\n",
    "print(data[\"labels\"].dtype)\n"
   ]
  },
  {
   "cell_type": "code",
   "execution_count": null,
   "metadata": {},
   "outputs": [],
   "source": [
    "labels = label(data[\"masks\"][1,::],connectivity=2)\n",
    "\n",
    "print(len(np.unique(labels)))\n",
    "\n",
    "plt.imshow(labels[50,::],cmap=\"plasma\")"
   ]
  },
  {
   "cell_type": "code",
   "execution_count": null,
   "metadata": {},
   "outputs": [],
   "source": [
    "data_type_seg = data[\"raw\"].dtype\n",
    "size = data[\"raw\"].shape\n",
    "\n",
    "spacing = (1,1,1)\n",
    "space_origin = (0 , 0 , 0 )\n",
    "\n",
    "header = create_nrrd_header(size, spacing, space_origin, data_type_seg)\n",
    "\n",
    "fileout = os.path.basename(file_path).split('.')[0]\n",
    "print(fileout)"
   ]
  },
  {
   "cell_type": "code",
   "execution_count": null,
   "metadata": {},
   "outputs": [],
   "source": [
    "nrrd.write(os.path.join(fileout + \".vol\"+ \".nrrd\"), data[\"raw\"],header=header)\n",
    "nrrd.write(os.path.join(fileout + \".label\"+ \".nrrd\"), data[\"labels\"],header=header)\n",
    "nrrd.write(os.path.join(fileout + \".labels\"+ \".nrrd\"), labels,header=header)\n",
    "\n",
    "\n",
    "# for i,cls in enumerate([\"weft\",\"fill\"]):  \n",
    "#     nrrd.write(os.path.join(fileout + f\".{cls}\" +\".pred\"+ \".nrrd\"), data[\"labels\"][i,::],header=header_seg)"
   ]
  },
  {
   "cell_type": "code",
   "execution_count": null,
   "metadata": {},
   "outputs": [],
   "source": [
    "found_first_item = False\n",
    "for root, dirs, files in os.walk(src_path):\n",
    "\n",
    "    for dir_name in dirs:\n",
    "        # print(dir_name)\n",
    "        if \"rand_subvolume\" in dir_name.lower():\n",
    "            # print(dir_name)\n",
    "            print(os.listdir(os.path.join(root,dir_name)))\n",
    "            for file in fnmatch.filter(os.listdir(os.path.join(root,dir_name)),\"*.h5\"):\n",
    "                \n",
    "                print(os.path.join(root,dir_name,file))\n",
    "                file_path = os.path.join(root,dir_name,file)\n",
    "\n",
    "                data = readH5(file_path)\n",
    "\n",
    "                data_type = data[\"raw\"].dtype\n",
    "                size = data[\"raw\"].shape\n",
    "                spacing = ( data[\"volume_data\"][\"VoxelSizeX\"],\n",
    "                            data[\"volume_data\"][\"VoxelSizeX\"],\n",
    "                            data[\"volume_data\"][\"VoxelSizeX\"]\n",
    "                            )\n",
    "\n",
    "                space_origin = data[\"volume_data\"][\"Origin\"]*spacing\n",
    "                print(data_type,len(size),spacing,space_origin)\n",
    "\n",
    "\n",
    "                header = create_nrrd_header(size, spacing, space_origin, data_type)\n",
    "                fileout = os.path.splitext(file)[0]\n",
    "\n",
    "\n",
    "                nrrd.write(os.path.join(root,dir_name,fileout + \".nrrd\"), data[\"raw\"],header=header)\n",
    "                \n",
    "\n",
    "\n",
    "                found_first_item = False\n",
    "                \n",
    "        if found_first_item:\n",
    "            break\n",
    "    if found_first_item:\n",
    "            break        "
   ]
  },
  {
   "cell_type": "code",
   "execution_count": null,
   "metadata": {},
   "outputs": [],
   "source": []
  },
  {
   "cell_type": "code",
   "execution_count": null,
   "metadata": {},
   "outputs": [],
   "source": []
  }
 ],
 "metadata": {
  "kernelspec": {
   "display_name": ".venv_3dseg",
   "language": "python",
   "name": "python3"
  },
  "language_info": {
   "codemirror_mode": {
    "name": "ipython",
    "version": 3
   },
   "file_extension": ".py",
   "mimetype": "text/x-python",
   "name": "python",
   "nbconvert_exporter": "python",
   "pygments_lexer": "ipython3",
   "version": "3.11.7"
  }
 },
 "nbformat": 4,
 "nbformat_minor": 2
}
