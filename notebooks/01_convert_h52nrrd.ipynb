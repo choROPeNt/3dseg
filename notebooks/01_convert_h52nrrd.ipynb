{
 "cells": [
  {
   "cell_type": "code",
   "execution_count": 31,
   "metadata": {},
   "outputs": [],
   "source": [
    "import os \n",
    "import numpy as np\n",
    "import h5py as h5\n",
    "import nrrd\n",
    "import fnmatch\n",
    "import matplotlib.pyplot as plt\n",
    "plt.rcParams['image.cmap'] = 'plasma'\n",
    "\n",
    "from skimage.measure import label"
   ]
  },
  {
   "cell_type": "code",
   "execution_count": 32,
   "metadata": {},
   "outputs": [],
   "source": [
    "def readH5(file_path,**kwargs):\n",
    "    \"\"\"\n",
    "    generic function to read a h5 file with one \n",
    "    subgroup elements by given filepath in a Dictonary \n",
    "    \"\"\"\n",
    "\n",
    "    import h5py as h5\n",
    "    \n",
    "    out = {}\n",
    "\n",
    "    with h5.File(file_path, 'r') as f:\n",
    "\n",
    "        for key in f.keys():\n",
    "\n",
    "            if isinstance(f[key],h5.Group):\n",
    "                out[key] = {}\n",
    "                for sub_key in f[key]:\n",
    "                    out[key][sub_key] = f[key][sub_key][...]\n",
    "            else:\n",
    "                out[key] = f[key][:]\n",
    "        f.close()\n",
    "    return out"
   ]
  },
  {
   "cell_type": "code",
   "execution_count": 40,
   "metadata": {},
   "outputs": [],
   "source": [
    "file_path   = \"/Volumes/projects/pore-detection/prediction/Pinprobe_komplett.seg.vol.val.pred.h5\"\n",
    "assert os.path.exists(file_path)"
   ]
  },
  {
   "cell_type": "code",
   "execution_count": 41,
   "metadata": {},
   "outputs": [
    {
     "name": "stdout",
     "output_type": "stream",
     "text": [
      "predictions (833, 207, 802) uint8\n"
     ]
    }
   ],
   "source": [
    "file   = readH5(file_path)\n",
    "for key, item in file.items():\n",
    "    if isinstance(item, dict):\n",
    "        print(key)\n",
    "        for subkey, subitems in item.items():\n",
    "            print(subkey,subitems.shape,subitems.dtype,subitems)\n",
    "    else:\n",
    "        print(key,item.shape,item.dtype)"
   ]
  },
  {
   "cell_type": "code",
   "execution_count": 5,
   "metadata": {},
   "outputs": [
    {
     "ename": "KeyError",
     "evalue": "'masks'",
     "output_type": "error",
     "traceback": [
      "\u001b[0;31m---------------------------------------------------------------------------\u001b[0m",
      "\u001b[0;31mKeyError\u001b[0m                                  Traceback (most recent call last)",
      "Cell \u001b[0;32mIn[5], line 1\u001b[0m\n\u001b[0;32m----> 1\u001b[0m file[\u001b[38;5;124m\"\u001b[39m\u001b[38;5;124minstances\u001b[39m\u001b[38;5;124m\"\u001b[39m] \u001b[38;5;241m=\u001b[39m label(\u001b[43mfile\u001b[49m\u001b[43m[\u001b[49m\u001b[38;5;124;43m\"\u001b[39;49m\u001b[38;5;124;43mmasks\u001b[39;49m\u001b[38;5;124;43m\"\u001b[39;49m\u001b[43m]\u001b[49m[\u001b[38;5;241m0\u001b[39m,::],connectivity\u001b[38;5;241m=\u001b[39m\u001b[38;5;241m2\u001b[39m)\n\u001b[1;32m      3\u001b[0m \u001b[38;5;28mprint\u001b[39m(\u001b[38;5;28mlen\u001b[39m(np\u001b[38;5;241m.\u001b[39munique(file[\u001b[38;5;124m\"\u001b[39m\u001b[38;5;124minstances\u001b[39m\u001b[38;5;124m\"\u001b[39m])))\n\u001b[1;32m      4\u001b[0m \u001b[38;5;28mprint\u001b[39m(\u001b[38;5;28mlen\u001b[39m(np\u001b[38;5;241m.\u001b[39munique(file[\u001b[38;5;124m\"\u001b[39m\u001b[38;5;124mlabels\u001b[39m\u001b[38;5;124m\"\u001b[39m])))\n",
      "\u001b[0;31mKeyError\u001b[0m: 'masks'"
     ]
    }
   ],
   "source": [
    "file[\"instances\"] = label(file[\"masks\"][0,::],connectivity=2)\n",
    "\n",
    "print(len(np.unique(file[\"instances\"])))\n",
    "print(len(np.unique(file[\"labels\"])))"
   ]
  },
  {
   "cell_type": "code",
   "execution_count": 42,
   "metadata": {},
   "outputs": [
    {
     "name": "stdout",
     "output_type": "stream",
     "text": [
      "predictions (833, 207, 802) uint8\n"
     ]
    }
   ],
   "source": [
    "for key, item in file.items():\n",
    "    if isinstance(item, dict):\n",
    "        print(key)\n",
    "        for subkey, subitems in item.items():\n",
    "            print(subkey,subitems.shape,subitems.dtype,subitems)\n",
    "    else:\n",
    "        print(key,item.shape,item.dtype)"
   ]
  },
  {
   "cell_type": "code",
   "execution_count": 47,
   "metadata": {},
   "outputs": [
    {
     "name": "stdout",
     "output_type": "stream",
     "text": [
      "[254 255]\n",
      "[0 1]\n"
     ]
    },
    {
     "data": {
      "image/png": "[encoded data removed]",
      "text/plain": [
       "<Figure size 640x480 with 1 Axes>"
      ]
     },
     "metadata": {},
     "output_type": "display_data"
    }
   ],
   "source": [
    "plt.imshow(~file[\"predictions\"][50,::])\n",
    "print(np.unique(file[\"predictions\"]))\n",
    "\n",
    "file[\"predictions\"]=~file[\"predictions\"]\n",
    "print(np.unique(file[\"predictions\"]))"
   ]
  },
  {
   "cell_type": "code",
   "execution_count": 44,
   "metadata": {},
   "outputs": [],
   "source": [
    "def create_nrrd_header(size, spacing,space_origin, data_type='float', space='left-posterior-superior'):\n",
    "    header = {\n",
    "        'type': data_type,\n",
    "        'dimension': len(size),\n",
    "        'space dimension': len(size),\n",
    "        'sizes': size,\n",
    "        'space': space,\n",
    "        'space origin': space_origin\n",
    "    }\n",
    "\n",
    "    if len(spacing) == len(size):\n",
    "        header['space directions'] = np.diag(spacing).tolist()\n",
    "        header['kinds'] = ['domain'] * len(size)\n",
    "\n",
    "    header.update({\n",
    "        'endian': 'little',\n",
    "        'encoding': 'raw',\n",
    "    })\n",
    "\n",
    "    return header"
   ]
  },
  {
   "cell_type": "code",
   "execution_count": 45,
   "metadata": {},
   "outputs": [],
   "source": [
    "def numpy_dtype_to_nrrd_dtype(dtype):\n",
    "    \"\"\"\n",
    "    Convert NumPy dtype to NRRD dtype string.\n",
    "\n",
    "    Parameters:\n",
    "    - dtype: NumPy dtype object\n",
    "\n",
    "    Returns:\n",
    "    - NRRD dtype string\n",
    "    \"\"\"\n",
    "    dtype_mapping = {\n",
    "        np.uint8: 'uint8',\n",
    "        np.uint16: 'uint16',\n",
    "        np.uint32: 'uint32',\n",
    "        np.uint64: 'uint64',\n",
    "        np.int8: 'int8',\n",
    "        np.int16: 'int16',\n",
    "        np.int32: 'int32',\n",
    "        np.int64: 'int64',\n",
    "        np.float16: 'float16',\n",
    "        np.float32: 'float32',\n",
    "        np.float64: 'float64',\n",
    "    }\n",
    "\n",
    "    return dtype_mapping.get(dtype, 'unknown')"
   ]
  },
  {
   "cell_type": "code",
   "execution_count": 46,
   "metadata": {},
   "outputs": [
    {
     "name": "stdout",
     "output_type": "stream",
     "text": [
      "Pinprobe_komplett.pred.labels.nrrd\n"
     ]
    }
   ],
   "source": [
    "out_key_list = [\"predictions\"]\n",
    "\n",
    "for key in out_key_list:\n",
    "\n",
    "    if key == \"raw\":\n",
    "        fileending = \".vol.nrrd\"\n",
    "    if key == \"labels\":\n",
    "        fileending = \".gtruth.labels.nrrd\"\n",
    "\n",
    "    if key == \"predictions\":\n",
    "        fileending = \".pred.labels.nrrd\"\n",
    "\n",
    "    fileout = os.path.basename(file_path).split('.')[0] + fileending\n",
    "    \n",
    "    print(fileout)\n",
    "\n",
    "\n",
    "    data_type_seg = file[key].dtype\n",
    "    size = file[key].shape\n",
    "\n",
    "    spacing = (1,1,1)\n",
    "    space_origin = (0 , 0 , 0 )\n",
    "\n",
    "    header = create_nrrd_header(size, spacing, space_origin, data_type_seg)\n",
    "    nrrd.write(fileout, file[key],header=header)\n"
   ]
  },
  {
   "cell_type": "code",
   "execution_count": null,
   "metadata": {},
   "outputs": [],
   "source": [
    "n = len(data.keys())\n",
    "fig, axs = plt.subplots(1,n,figsize=(n*3.5,3.5))\n",
    "\n",
    "axs = np.array(axs).flatten()\n",
    "for ax in axs: ax.axis(\"off\")\n",
    "\n",
    "slice = 30\n",
    "\n",
    "# axs[0].imshow(data[\"raw\"][:,:,slice],cmap=\"grey\")\n",
    "axs[0].imshow(data[\"labels\"][:,:,slice])"
   ]
  },
  {
   "cell_type": "code",
   "execution_count": null,
   "metadata": {},
   "outputs": [],
   "source": [
    "obj_ids = np.unique(data[\"labels\"])\n",
    "\n",
    "print(len(obj_ids))\n",
    "\n",
    "obj_ids = obj_ids[0:]\n",
    "data[\"masks\"] = data[\"labels\"] == obj_ids[:, None, None, None]\n",
    "\n",
    "for key, item in data.items():\n",
    "    if isinstance(item, dict):\n",
    "        print(key,\":\")\n",
    "        for subkey, subitems in item.items():\n",
    "            print(\"\\t\",subkey,subitems.shape,subitems.dtype,subitems)\n",
    "    else:\n",
    "        print(key,item.shape,item.dtype)\n"
   ]
  },
  {
   "cell_type": "code",
   "execution_count": null,
   "metadata": {},
   "outputs": [],
   "source": [
    "labels = np.zeros((2,*data[\"labels\"].shape))\n",
    "\n",
    "for cls in range(1,data[\"masks\"].shape[0]):\n",
    "    labels[cls-1] = label(data[\"masks\"][cls,::],connectivity=2)\n",
    "\n",
    "    plt.imshow(labels[cls-1,:,:,slice])\n",
    "    plt.show()\n",
    "\n",
    "data[\"labels\"] = labels.astype(np.int16)\n",
    "\n",
    "print(data[\"labels\"].dtype)\n"
   ]
  },
  {
   "cell_type": "code",
   "execution_count": null,
   "metadata": {},
   "outputs": [],
   "source": [
    "labels = label(data[\"masks\"][1,::],connectivity=2)\n",
    "\n",
    "print(len(np.unique(labels)))\n",
    "\n",
    "plt.imshow(labels[50,::],cmap=\"plasma\")"
   ]
  },
  {
   "cell_type": "code",
   "execution_count": null,
   "metadata": {},
   "outputs": [],
   "source": [
    "data_type_seg = data[\"raw\"].dtype\n",
    "size = data[\"raw\"].shape\n",
    "\n",
    "spacing = (1,1,1)\n",
    "space_origin = (0 , 0 , 0 )\n",
    "\n",
    "header = create_nrrd_header(size, spacing, space_origin, data_type_seg)\n",
    "\n",
    "fileout = os.path.basename(file_path).split('.')[0]\n",
    "print(fileout)"
   ]
  },
  {
   "cell_type": "code",
   "execution_count": null,
   "metadata": {},
   "outputs": [],
   "source": [
    "nrrd.write(os.path.join(fileout + \".vol\"+ \".nrrd\"), data[\"raw\"],header=header)\n",
    "nrrd.write(os.path.join(fileout + \".label\"+ \".nrrd\"), data[\"labels\"],header=header)\n",
    "nrrd.write(os.path.join(fileout + \".labels\"+ \".nrrd\"), labels,header=header)\n",
    "\n",
    "\n",
    "# for i,cls in enumerate([\"weft\",\"fill\"]):  \n",
    "#     nrrd.write(os.path.join(fileout + f\".{cls}\" +\".pred\"+ \".nrrd\"), data[\"labels\"][i,::],header=header_seg)"
   ]
  },
  {
   "cell_type": "code",
   "execution_count": null,
   "metadata": {},
   "outputs": [],
   "source": [
    "found_first_item = False\n",
    "for root, dirs, files in os.walk(src_path):\n",
    "\n",
    "    for dir_name in dirs:\n",
    "        # print(dir_name)\n",
    "        if \"rand_subvolume\" in dir_name.lower():\n",
    "            # print(dir_name)\n",
    "            print(os.listdir(os.path.join(root,dir_name)))\n",
    "            for file in fnmatch.filter(os.listdir(os.path.join(root,dir_name)),\"*.h5\"):\n",
    "                \n",
    "                print(os.path.join(root,dir_name,file))\n",
    "                file_path = os.path.join(root,dir_name,file)\n",
    "\n",
    "                data = readH5(file_path)\n",
    "\n",
    "                data_type = data[\"raw\"].dtype\n",
    "                size = data[\"raw\"].shape\n",
    "                spacing = ( data[\"volume_data\"][\"VoxelSizeX\"],\n",
    "                            data[\"volume_data\"][\"VoxelSizeX\"],\n",
    "                            data[\"volume_data\"][\"VoxelSizeX\"]\n",
    "                            )\n",
    "\n",
    "                space_origin = data[\"volume_data\"][\"Origin\"]*spacing\n",
    "                print(data_type,len(size),spacing,space_origin)\n",
    "\n",
    "\n",
    "                header = create_nrrd_header(size, spacing, space_origin, data_type)\n",
    "                fileout = os.path.splitext(file)[0]\n",
    "\n",
    "\n",
    "                nrrd.write(os.path.join(root,dir_name,fileout + \".nrrd\"), data[\"raw\"],header=header)\n",
    "                \n",
    "\n",
    "\n",
    "                found_first_item = False\n",
    "                \n",
    "        if found_first_item:\n",
    "            break\n",
    "    if found_first_item:\n",
    "            break        "
   ]
  },
  {
   "cell_type": "code",
   "execution_count": null,
   "metadata": {},
   "outputs": [],
   "source": []
  },
  {
   "cell_type": "code",
   "execution_count": null,
   "metadata": {},
   "outputs": [],
   "source": []
  }
 ],
 "metadata": {
  "kernelspec": {
   "display_name": ".venv_3dseg",
   "language": "python",
   "name": "python3"
  },
  "language_info": {
   "codemirror_mode": {
    "name": "ipython",
    "version": 3
   },
   "file_extension": ".py",
   "mimetype": "text/x-python",
   "name": "python",
   "nbconvert_exporter": "python",
   "pygments_lexer": "ipython3",
   "version": "3.11.7"
  }
 },
 "nbformat": 4,
 "nbformat_minor": 2
}
