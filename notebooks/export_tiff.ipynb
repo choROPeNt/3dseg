{
 "cells": [
  {
   "cell_type": "code",
   "execution_count": 15,
   "metadata": {},
   "outputs": [],
   "source": [
    "import nrrd\n",
    "import imageio\n",
    "import os\n",
    "import cv2\n",
    "import numpy as np"
   ]
  },
  {
   "cell_type": "code",
   "execution_count": 21,
   "metadata": {},
   "outputs": [],
   "source": [
    "# Load NRRD volume\n",
    "nrrd_path = '/Users/christian/Nextcloud/06_students/SHK/SHK_Lars_Kleinkop/exchange/285-10_layer/volumes/00/rand_subvolume/285_10-layer_00_0.nrrd'\n",
    "data, header = nrrd.read(nrrd_path)\n",
    "\n",
    "# Create output directory if it doesn't exist\n",
    "output_file = '/Users/christian/Nextcloud/06_students/SHK/SHK_Lars_Kleinkop/exchange/285-10_layer/volumes/00/rand_subvolume/285_10-layer_00_0.tiff'\n",
    "\n",
    "# Export as TIFF stack\n",
    "imageio.volwrite(output_file, data)"
   ]
  },
  {
   "cell_type": "code",
   "execution_count": 17,
   "metadata": {},
   "outputs": [
    {
     "name": "stdout",
     "output_type": "stream",
     "text": [
      "Image dimensions: (500, 256, 256)\n"
     ]
    }
   ],
   "source": [
    "check, img = cv2.imreadmulti(output_file)\n",
    "img = np.array(img)\n",
    "if not check:\n",
    "    raise Exception(\"Image file not found.\")\n",
    "elif img.ndim > 3 or img.ndim < 2:\n",
    "    raise Exception(\"Unsupported image type.\")\n",
    "elif img.ndim == 2:\n",
    "    img = img[:, :, np.newaxis]\n",
    "\n",
    "print(f\"Image dimensions: {img.shape}\")"
   ]
  },
  {
   "cell_type": "code",
   "execution_count": null,
   "metadata": {},
   "outputs": [],
   "source": []
  }
 ],
 "metadata": {
  "kernelspec": {
   "display_name": ".venv_3dseg",
   "language": "python",
   "name": "python3"
  },
  "language_info": {
   "codemirror_mode": {
    "name": "ipython",
    "version": 3
   },
   "file_extension": ".py",
   "mimetype": "text/x-python",
   "name": "python",
   "nbconvert_exporter": "python",
   "pygments_lexer": "ipython3",
   "version": "3.11.7"
  }
 },
 "nbformat": 4,
 "nbformat_minor": 2
}
